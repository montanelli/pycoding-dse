{
 "cells": [
  {
   "cell_type": "markdown",
   "id": "27648ede",
   "metadata": {},
   "source": [
    "# MongoDB: installation, database import and queries\n",
    "\n",
    "In the following two lectures we will perform several queries with MongoDB on a reduced version of the Instacart database. We will see how to:\n",
    "\n",
    "1. Import the reduced version of the MongoDB database\n",
    "2. Install the PyMongo Python library to communicate with the MongoDB server\n",
    "3. Perform synchronous queries with PyMongo on the Instacart database\n",
    "4. Perform asynchronous queries with Motor on the Instacart database\n",
    "\n",
    "\n",
    "## 1. Import database\n",
    "\n",
    "Now, let's import the MongoDB reduced version of the <i>Instacart</i> database. We can import the database with the following command:\n",
    "\n",
    "``mongoimport --db instacart --collection orders --file db/orders.js``\n",
    "\n",
    "We have called the dabatase as <i>instacart</i>, and the collection as <i>orders</i>.\n",
    "\n",
    "We can check the correct import of the database by:\n",
    "1. opening MongoDB on the terminal app\n",
    "2. typing ``mongo``\n",
    "3. typing ``show dbs``\n",
    "4. typing ``use instacart``\n",
    "5. typing ``show collections``\n",
    "\n",
    "Here's the full guide to the Mongo Shell: https://www.mongodb.com/docs/mongodb-shell/\n",
    "\n",
    "##### Note for Windows users\n",
    "By default, you have to use the full path to the mongo.exe. </br>\n",
    "Alternatively, you can add it to the PATH variable.\n",
    "\n",
    "In my case:\n",
    "- the full path of mongo is ``\"C:/Program Files/MongoDB/Server/8.0/bin/\"``\n",
    "- the full path of mongoimport is ``\"C:\\Program Files\\MongoDB\\Tools\\100\\bin\\\"``\n",
    "\n",
    "Notice values in Windows PATH variable have to end with \"\\\\\" or \"/\".\n",
    "\n",
    "## 2. Pymongo\n",
    "\n",
    "As for PostgreSQL, we need to use a library that provides an interface with MongoDB. This is PyMongo: it is a Python library containing tools to work with MongoDB, and is the recommended way to work with MongoDB from Python.\n",
    "\n",
    "We can install PyMongo with pip (``pip install pymongo``) or anaconda. The doc of the library can be found here: https://www.mongodb.com/docs/languages/python/pymongo-driver/current/\n"
   ]
  },
  {
   "cell_type": "code",
   "execution_count": 4,
   "id": "98679a62",
   "metadata": {},
   "outputs": [
    {
     "name": "stdout",
     "output_type": "stream",
     "text": [
      "Requirement already satisfied: pymongo==4.9.2 in c:\\users\\lenovo\\miniconda3\\lib\\site-packages (4.9.2)\n",
      "Requirement already satisfied: dnspython<3.0.0,>=1.16.0 in c:\\users\\lenovo\\miniconda3\\lib\\site-packages (from pymongo==4.9.2) (2.7.0)\n"
     ]
    }
   ],
   "source": [
    "!pip install pymongo==4.9.2"
   ]
  },
  {
   "cell_type": "code",
   "execution_count": 7,
   "id": "2fb61138",
   "metadata": {},
   "outputs": [],
   "source": [
    "import pymongo"
   ]
  },
  {
   "cell_type": "code",
   "execution_count": 8,
   "id": "a219656e",
   "metadata": {},
   "outputs": [
    {
     "data": {
      "text/plain": [
       "MongoClient(host=['localhost:27017'], document_class=dict, tz_aware=False, connect=True)"
      ]
     },
     "execution_count": 8,
     "metadata": {},
     "output_type": "execute_result"
    }
   ],
   "source": [
    "client = pymongo.MongoClient() # host has to be specified if not \"localhost\"\n",
    "client"
   ]
  },
  {
   "cell_type": "code",
   "execution_count": 9,
   "id": "a1873a55",
   "metadata": {},
   "outputs": [
    {
     "data": {
      "text/plain": [
       "['ASKE',\n",
       " 'EmoTradeAdvisor',\n",
       " 'IMDB',\n",
       " 'OCR-Parlamento',\n",
       " 'OCR-Wikisource',\n",
       " 'admin',\n",
       " 'config',\n",
       " 'illinois_caselaw',\n",
       " 'instacart',\n",
       " 'lawscraper',\n",
       " 'local']"
      ]
     },
     "execution_count": 9,
     "metadata": {},
     "output_type": "execute_result"
    }
   ],
   "source": [
    "# Show dbs\n",
    "client.list_database_names()"
   ]
  },
  {
   "cell_type": "code",
   "execution_count": 10,
   "id": "7d9a0cfc",
   "metadata": {},
   "outputs": [
    {
     "data": {
      "text/plain": [
       "pymongo.synchronous.database.Database"
      ]
     },
     "execution_count": 10,
     "metadata": {},
     "output_type": "execute_result"
    }
   ],
   "source": [
    "# Use instacart\n",
    "db = client['instacart']\n",
    "type(db)"
   ]
  },
  {
   "cell_type": "code",
   "execution_count": 11,
   "id": "d3552e4f",
   "metadata": {},
   "outputs": [
    {
     "data": {
      "text/plain": [
       "['orders']"
      ]
     },
     "execution_count": 11,
     "metadata": {},
     "output_type": "execute_result"
    }
   ],
   "source": [
    "# Show collections\n",
    "db.list_collection_names()"
   ]
  },
  {
   "cell_type": "code",
   "execution_count": 12,
   "id": "29cdb143",
   "metadata": {},
   "outputs": [
    {
     "data": {
      "text/plain": [
       "pymongo.synchronous.collection.Collection"
      ]
     },
     "execution_count": 12,
     "metadata": {},
     "output_type": "execute_result"
    }
   ],
   "source": [
    "# Use orders\n",
    "cll = db['orders']\n",
    "type(cll)"
   ]
  },
  {
   "cell_type": "markdown",
   "id": "a736d204",
   "metadata": {},
   "source": [
    "Using ```find_one()``` we get one document that satisfies the specified query criteria on the collection. Notice here that the query argument is empty.\n",
    "\n",
    "If multiple documents satisfy the query, this method returns the first document according to the order of documents on the disk."
   ]
  },
  {
   "cell_type": "code",
   "execution_count": 13,
   "id": "33d3b1c9",
   "metadata": {},
   "outputs": [
    {
     "data": {
      "text/plain": [
       "{'_id': ObjectId('60af57782fbbe971834ae2a6'),\n",
       " 'order_id': 2539329,\n",
       " 'user_id': 1,\n",
       " 'order_number': 1,\n",
       " 'order_dow': 2,\n",
       " 'order_hour_of_day': 8,\n",
       " 'products': [{'product_id': 196,\n",
       "   'product_name': 'Soda',\n",
       "   'aisle_id': 77,\n",
       "   'aisle': 'soft drinks',\n",
       "   'department_id': 7,\n",
       "   'department': 'beverages',\n",
       "   'add_to_cart_order': 1},\n",
       "  {'product_id': 12427,\n",
       "   'product_name': 'Original Beef Jerky',\n",
       "   'aisle_id': 23,\n",
       "   'aisle': 'popcorn jerky',\n",
       "   'department_id': 19,\n",
       "   'department': 'snacks',\n",
       "   'add_to_cart_order': 3},\n",
       "  {'product_id': 14084,\n",
       "   'product_name': 'Organic Unsweetened Vanilla Almond Milk',\n",
       "   'aisle_id': 91,\n",
       "   'aisle': 'soy lactosefree',\n",
       "   'department_id': 16,\n",
       "   'department': 'dairy eggs',\n",
       "   'add_to_cart_order': 2},\n",
       "  {'product_id': 26088,\n",
       "   'product_name': 'Aged White Cheddar Popcorn',\n",
       "   'aisle_id': 23,\n",
       "   'aisle': 'popcorn jerky',\n",
       "   'department_id': 19,\n",
       "   'department': 'snacks',\n",
       "   'add_to_cart_order': 4},\n",
       "  {'product_id': 26405,\n",
       "   'product_name': 'XL Pick-A-Size Paper Towel Rolls',\n",
       "   'aisle_id': 54,\n",
       "   'aisle': 'paper goods',\n",
       "   'department_id': 17,\n",
       "   'department': 'household',\n",
       "   'add_to_cart_order': 5}]}"
      ]
     },
     "execution_count": 13,
     "metadata": {},
     "output_type": "execute_result"
    }
   ],
   "source": [
    "# How is an object of the database made?\n",
    "example = cll.find_one()\n",
    "example"
   ]
  },
  {
   "cell_type": "markdown",
   "id": "c0c486ff",
   "metadata": {},
   "source": [
    "Every document in the collection has an <i>_id</i> field that is used to uniquely identify the document in a particular collection. It acts as the primary key for the documents in the collection.\n",
    "\n",
    "Using ```find()``` we get all documents that satisfies the specified query criteria on the collection. The result is a cursor. We have to iterate over the cursor in order to access data."
   ]
  },
  {
   "cell_type": "code",
   "execution_count": 14,
   "id": "d537a0d3",
   "metadata": {},
   "outputs": [],
   "source": [
    "cursor = cll.find()"
   ]
  },
  {
   "cell_type": "code",
   "execution_count": 22,
   "id": "d60c88de",
   "metadata": {},
   "outputs": [
    {
     "data": {
      "text/plain": [
       "{'_id': ObjectId('60af57782fbbe971834ae2a9'),\n",
       " 'order_id': 2254736,\n",
       " 'user_id': 1,\n",
       " 'order_number': 4,\n",
       " 'order_dow': 4,\n",
       " 'order_hour_of_day': 7,\n",
       " 'days_since_prior_order': 29.0,\n",
       " 'products': [{'product_id': 196,\n",
       "   'product_name': 'Soda',\n",
       "   'aisle_id': 77,\n",
       "   'aisle': 'soft drinks',\n",
       "   'department_id': 7,\n",
       "   'department': 'beverages',\n",
       "   'add_to_cart_order': 1,\n",
       "   'reordered': 1},\n",
       "  {'product_id': 10258,\n",
       "   'product_name': 'Pistachios',\n",
       "   'aisle_id': 117,\n",
       "   'aisle': 'nuts seeds dried fruit',\n",
       "   'department_id': 19,\n",
       "   'department': 'snacks',\n",
       "   'add_to_cart_order': 3,\n",
       "   'reordered': 1},\n",
       "  {'product_id': 12427,\n",
       "   'product_name': 'Original Beef Jerky',\n",
       "   'aisle_id': 23,\n",
       "   'aisle': 'popcorn jerky',\n",
       "   'department_id': 19,\n",
       "   'department': 'snacks',\n",
       "   'add_to_cart_order': 2,\n",
       "   'reordered': 1},\n",
       "  {'product_id': 25133,\n",
       "   'product_name': 'Organic String Cheese',\n",
       "   'aisle_id': 21,\n",
       "   'aisle': 'packaged cheese',\n",
       "   'department_id': 16,\n",
       "   'department': 'dairy eggs',\n",
       "   'add_to_cart_order': 4,\n",
       "   'reordered': 1},\n",
       "  {'product_id': 26405,\n",
       "   'product_name': 'XL Pick-A-Size Paper Towel Rolls',\n",
       "   'aisle_id': 54,\n",
       "   'aisle': 'paper goods',\n",
       "   'department_id': 17,\n",
       "   'department': 'household',\n",
       "   'add_to_cart_order': 5,\n",
       "   'reordered': 1}]}"
      ]
     },
     "execution_count": 22,
     "metadata": {},
     "output_type": "execute_result"
    }
   ],
   "source": [
    "record = next(cursor)\n",
    "record"
   ]
  },
  {
   "cell_type": "markdown",
   "id": "2b5b66e1",
   "metadata": {},
   "source": [
    "## Simple queries\n",
    "\n",
    "#### Display all the orders of the user with id equal to 1"
   ]
  },
  {
   "cell_type": "code",
   "execution_count": 23,
   "id": "72c973a6",
   "metadata": {},
   "outputs": [],
   "source": [
    "query = {\"user_id\" : 1}\n",
    "\n",
    "cursor = cll.find(query)"
   ]
  },
  {
   "cell_type": "code",
   "execution_count": 24,
   "id": "0be1d38f",
   "metadata": {},
   "outputs": [
    {
     "name": "stdout",
     "output_type": "stream",
     "text": [
      "User ID\t Order ID\n",
      "1 \t 2539329\n",
      "1 \t 473747\n",
      "1 \t 431534\n",
      "1 \t 2398795\n",
      "1 \t 2550362\n",
      "1 \t 3367565\n",
      "1 \t 2254736\n",
      "1 \t 550135\n",
      "1 \t 1187899\n",
      "1 \t 3108588\n",
      "1 \t 2295261\n"
     ]
    }
   ],
   "source": [
    "print(\"User ID\\t Order ID\")\n",
    "for obj in cursor:\n",
    "    print(obj['user_id'],\"\\t\", obj['order_id'])"
   ]
  },
  {
   "cell_type": "code",
   "execution_count": 25,
   "id": "32d5aaf3",
   "metadata": {},
   "outputs": [
    {
     "name": "stdout",
     "output_type": "stream",
     "text": [
      "User ID\t Order ID\n"
     ]
    }
   ],
   "source": [
    "# Notice cursor objects get \"exhausted\", just like in the case we saw with PsycoPG\n",
    "print(\"User ID\\t Order ID\")\n",
    "for obj in cursor:\n",
    "    print(obj['user_id'],\"\\t\", obj['order_id'])"
   ]
  },
  {
   "cell_type": "markdown",
   "id": "04e002a9",
   "metadata": {},
   "source": [
    "# 3. Perform queries using PyMongo\n",
    "There are two fundamental operations in a MongoDB query:\n",
    "1. filter (~ ``WHERE`` in SQL)\n",
    "2. projection (~ ``SELECT`` in SQL)"
   ]
  },
  {
   "cell_type": "code",
   "execution_count": 26,
   "id": "ff136939",
   "metadata": {},
   "outputs": [
    {
     "name": "stdout",
     "output_type": "stream",
     "text": [
      "{'order_id': 2539329, 'order_number': 1, 'order_dow': 2, 'order_hour_of_day': 8}\n",
      "{'order_id': 473747, 'order_number': 3, 'order_dow': 3, 'order_hour_of_day': 12, 'days_since_prior_order': 21.0}\n",
      "{'order_id': 431534, 'order_number': 5, 'order_dow': 4, 'order_hour_of_day': 15, 'days_since_prior_order': 28.0}\n",
      "{'order_id': 2398795, 'order_number': 2, 'order_dow': 3, 'order_hour_of_day': 7, 'days_since_prior_order': 15.0}\n",
      "{'order_id': 2550362, 'order_number': 10, 'order_dow': 4, 'order_hour_of_day': 8, 'days_since_prior_order': 30.0}\n",
      "{'order_id': 3367565, 'order_number': 6, 'order_dow': 2, 'order_hour_of_day': 7, 'days_since_prior_order': 19.0}\n",
      "{'order_id': 2254736, 'order_number': 4, 'order_dow': 4, 'order_hour_of_day': 7, 'days_since_prior_order': 29.0}\n",
      "{'order_id': 550135, 'order_number': 7, 'order_dow': 1, 'order_hour_of_day': 9, 'days_since_prior_order': 20.0}\n",
      "{'order_id': 1187899, 'order_number': 11, 'order_dow': 4, 'order_hour_of_day': 8, 'days_since_prior_order': 14.0}\n",
      "{'order_id': 3108588, 'order_number': 8, 'order_dow': 1, 'order_hour_of_day': 14, 'days_since_prior_order': 14.0}\n",
      "{'order_id': 2295261, 'order_number': 9, 'order_dow': 1, 'order_hour_of_day': 16}\n"
     ]
    }
   ],
   "source": [
    "query = {\"user_id\" : 1}\n",
    "projection = {'_id' : 0, 'user_id' : 0, 'products' : 0} # Exclusive projection\n",
    "\n",
    "cursor = cll.find(filter = query, projection = projection)\n",
    "\n",
    "for record in cursor:\n",
    "    print(record)"
   ]
  },
  {
   "cell_type": "code",
   "execution_count": 27,
   "id": "1f9a26a4",
   "metadata": {},
   "outputs": [
    {
     "name": "stdout",
     "output_type": "stream",
     "text": [
      "{'_id': ObjectId('60af57782fbbe971834ae2a6'), 'order_id': 2539329}\n",
      "{'_id': ObjectId('60af57782fbbe971834ae2a8'), 'order_id': 473747}\n",
      "{'_id': ObjectId('60af57782fbbe971834ae2aa'), 'order_id': 431534}\n",
      "{'_id': ObjectId('60af57782fbbe971834ae2a7'), 'order_id': 2398795}\n",
      "{'_id': ObjectId('60af57782fbbe971834ae2af'), 'order_id': 2550362}\n",
      "{'_id': ObjectId('60af57782fbbe971834ae2ab'), 'order_id': 3367565}\n",
      "{'_id': ObjectId('60af57782fbbe971834ae2a9'), 'order_id': 2254736}\n",
      "{'_id': ObjectId('60af57782fbbe971834ae2ac'), 'order_id': 550135}\n",
      "{'_id': ObjectId('60af57782fbbe971834ae2b0'), 'order_id': 1187899}\n",
      "{'_id': ObjectId('60af57782fbbe971834ae2ad'), 'order_id': 3108588}\n",
      "{'_id': ObjectId('60af57782fbbe971834ae2ae'), 'order_id': 2295261}\n"
     ]
    }
   ],
   "source": [
    "query = {\"user_id\" : 1}\n",
    "projection = {'order_id' : 1} # Inclusive projection\n",
    "\n",
    "cursor = cll.find(query, projection)\n",
    "\n",
    "for record in cursor :\n",
    "    print(record)"
   ]
  },
  {
   "cell_type": "markdown",
   "id": "b0a28056",
   "metadata": {},
   "source": [
    "To impose conditions on nested features:"
   ]
  },
  {
   "cell_type": "code",
   "execution_count": 28,
   "id": "5bc2b204",
   "metadata": {},
   "outputs": [
    {
     "name": "stdout",
     "output_type": "stream",
     "text": [
      "{'_id': ObjectId('60af57782fbbe971834ae2aa'), 'products': [{'add_to_cart_order': 1}, {'add_to_cart_order': 3}, {'add_to_cart_order': 5}, {'add_to_cart_order': 2}, {'add_to_cart_order': 8}, {'add_to_cart_order': 6}, {'add_to_cart_order': 4}, {'add_to_cart_order': 7}]}\n",
      "{'_id': ObjectId('60af57782fbbe971834ae2af'), 'products': [{'add_to_cart_order': 1}, {'add_to_cart_order': 6}, {'add_to_cart_order': 9}, {'add_to_cart_order': 8}, {'add_to_cart_order': 5}, {'add_to_cart_order': 7}, {'add_to_cart_order': 4}, {'add_to_cart_order': 3}, {'add_to_cart_order': 2}]}\n",
      "{'_id': ObjectId('60af57782fbbe971834ae2b0'), 'products': [{'add_to_cart_order': 1}, {'add_to_cart_order': 6}, {'add_to_cart_order': 7}, {'add_to_cart_order': 2}, {'add_to_cart_order': 8}, {'add_to_cart_order': 4}, {'add_to_cart_order': 9}, {'add_to_cart_order': 3}, {'add_to_cart_order': 5}, {'add_to_cart_order': 11}, {'add_to_cart_order': 10}]}\n"
     ]
    }
   ],
   "source": [
    "query = {'user_id': 1, \"products.add_to_cart_order\": 7}\n",
    "projection = {'products.add_to_cart_order':1}\n",
    "cursor = cll.find(query, projection)\n",
    "\n",
    "for record in cursor:\n",
    "    print(record)"
   ]
  },
  {
   "cell_type": "markdown",
   "id": "fdf9bbf2",
   "metadata": {},
   "source": [
    "### Exception handling"
   ]
  },
  {
   "cell_type": "code",
   "execution_count": 29,
   "id": "b4d4b54f",
   "metadata": {},
   "outputs": [
    {
     "data": {
      "text/html": [
       "<div>\n",
       "<style scoped>\n",
       "    .dataframe tbody tr th:only-of-type {\n",
       "        vertical-align: middle;\n",
       "    }\n",
       "\n",
       "    .dataframe tbody tr th {\n",
       "        vertical-align: top;\n",
       "    }\n",
       "\n",
       "    .dataframe thead th {\n",
       "        text-align: right;\n",
       "    }\n",
       "</style>\n",
       "<table border=\"1\" class=\"dataframe\">\n",
       "  <thead>\n",
       "    <tr style=\"text-align: right;\">\n",
       "      <th></th>\n",
       "      <th>order_id</th>\n",
       "      <th>user_id</th>\n",
       "      <th>order_number</th>\n",
       "      <th>order_dow</th>\n",
       "      <th>order_hour_of_day</th>\n",
       "      <th>days_since_prior_order</th>\n",
       "    </tr>\n",
       "  </thead>\n",
       "  <tbody>\n",
       "    <tr>\n",
       "      <th>0</th>\n",
       "      <td>2539329</td>\n",
       "      <td>1</td>\n",
       "      <td>1</td>\n",
       "      <td>2</td>\n",
       "      <td>8</td>\n",
       "      <td>NaN</td>\n",
       "    </tr>\n",
       "    <tr>\n",
       "      <th>1</th>\n",
       "      <td>473747</td>\n",
       "      <td>1</td>\n",
       "      <td>3</td>\n",
       "      <td>3</td>\n",
       "      <td>12</td>\n",
       "      <td>21.0</td>\n",
       "    </tr>\n",
       "    <tr>\n",
       "      <th>2</th>\n",
       "      <td>431534</td>\n",
       "      <td>1</td>\n",
       "      <td>5</td>\n",
       "      <td>4</td>\n",
       "      <td>15</td>\n",
       "      <td>28.0</td>\n",
       "    </tr>\n",
       "    <tr>\n",
       "      <th>3</th>\n",
       "      <td>2398795</td>\n",
       "      <td>1</td>\n",
       "      <td>2</td>\n",
       "      <td>3</td>\n",
       "      <td>7</td>\n",
       "      <td>15.0</td>\n",
       "    </tr>\n",
       "    <tr>\n",
       "      <th>4</th>\n",
       "      <td>2550362</td>\n",
       "      <td>1</td>\n",
       "      <td>10</td>\n",
       "      <td>4</td>\n",
       "      <td>8</td>\n",
       "      <td>30.0</td>\n",
       "    </tr>\n",
       "    <tr>\n",
       "      <th>5</th>\n",
       "      <td>3367565</td>\n",
       "      <td>1</td>\n",
       "      <td>6</td>\n",
       "      <td>2</td>\n",
       "      <td>7</td>\n",
       "      <td>19.0</td>\n",
       "    </tr>\n",
       "    <tr>\n",
       "      <th>6</th>\n",
       "      <td>2254736</td>\n",
       "      <td>1</td>\n",
       "      <td>4</td>\n",
       "      <td>4</td>\n",
       "      <td>7</td>\n",
       "      <td>29.0</td>\n",
       "    </tr>\n",
       "    <tr>\n",
       "      <th>7</th>\n",
       "      <td>550135</td>\n",
       "      <td>1</td>\n",
       "      <td>7</td>\n",
       "      <td>1</td>\n",
       "      <td>9</td>\n",
       "      <td>20.0</td>\n",
       "    </tr>\n",
       "    <tr>\n",
       "      <th>8</th>\n",
       "      <td>1187899</td>\n",
       "      <td>1</td>\n",
       "      <td>11</td>\n",
       "      <td>4</td>\n",
       "      <td>8</td>\n",
       "      <td>14.0</td>\n",
       "    </tr>\n",
       "    <tr>\n",
       "      <th>9</th>\n",
       "      <td>3108588</td>\n",
       "      <td>1</td>\n",
       "      <td>8</td>\n",
       "      <td>1</td>\n",
       "      <td>14</td>\n",
       "      <td>14.0</td>\n",
       "    </tr>\n",
       "    <tr>\n",
       "      <th>10</th>\n",
       "      <td>2295261</td>\n",
       "      <td>1</td>\n",
       "      <td>9</td>\n",
       "      <td>1</td>\n",
       "      <td>16</td>\n",
       "      <td>NaN</td>\n",
       "    </tr>\n",
       "  </tbody>\n",
       "</table>\n",
       "</div>"
      ],
      "text/plain": [
       "    order_id  user_id  order_number  order_dow  order_hour_of_day  \\\n",
       "0    2539329        1             1          2                  8   \n",
       "1     473747        1             3          3                 12   \n",
       "2     431534        1             5          4                 15   \n",
       "3    2398795        1             2          3                  7   \n",
       "4    2550362        1            10          4                  8   \n",
       "5    3367565        1             6          2                  7   \n",
       "6    2254736        1             4          4                  7   \n",
       "7     550135        1             7          1                  9   \n",
       "8    1187899        1            11          4                  8   \n",
       "9    3108588        1             8          1                 14   \n",
       "10   2295261        1             9          1                 16   \n",
       "\n",
       "    days_since_prior_order  \n",
       "0                      NaN  \n",
       "1                     21.0  \n",
       "2                     28.0  \n",
       "3                     15.0  \n",
       "4                     30.0  \n",
       "5                     19.0  \n",
       "6                     29.0  \n",
       "7                     20.0  \n",
       "8                     14.0  \n",
       "9                     14.0  \n",
       "10                     NaN  "
      ]
     },
     "execution_count": 29,
     "metadata": {},
     "output_type": "execute_result"
    }
   ],
   "source": [
    "# Note: By default MongoDB databases are not secured by authentication\n",
    "import pandas as pd\n",
    "\n",
    "def query(database, collection, query=None, projection=None, host='localhost', port=27017, limit=0):\n",
    "    try:\n",
    "        client = pymongo.MongoClient(host=host, port=port)\n",
    "        db = client[database]\n",
    "        cll = db[collection]\n",
    "    except (ConnectionError) as e:\n",
    "        print(e)\n",
    "    \n",
    "    else:\n",
    "        try:\n",
    "            cursor = cll.find(query, projection).limit(limit)\n",
    "            return pd.DataFrame.from_records(list(cursor))\n",
    "        except (Exception) as e:\n",
    "            print(e)\n",
    "        finally:\n",
    "            client.close()            \n",
    "\n",
    "query('instacart', 'orders', query={\"user_id\" : 1}, projection={\"products\":0, \"_id\":0})"
   ]
  },
  {
   "cell_type": "markdown",
   "id": "803a25dd",
   "metadata": {},
   "source": [
    "### Exercise 1.1 \n",
    "##### How many orders were set on Tuesday at 12:00?"
   ]
  },
  {
   "cell_type": "markdown",
   "id": "902457e2",
   "metadata": {},
   "source": [
    "The ``count_documents`` method is available to perform counts (documentation [here](https://pymongo.readthedocs.io/en/stable/api/pymongo/collection.html#pymongo.collection.Collection.count_documents)). It receives a filter and it counts the number of documents that are compliant to the filter."
   ]
  },
  {
   "cell_type": "code",
   "execution_count": 30,
   "id": "4b0dc7b0",
   "metadata": {},
   "outputs": [
    {
     "data": {
      "text/plain": [
       "10384"
      ]
     },
     "execution_count": 30,
     "metadata": {},
     "output_type": "execute_result"
    }
   ],
   "source": [
    "query = {\"order_dow\" : 2, \"order_hour_of_day\" : 12}\n",
    "cll.count_documents(query)"
   ]
  },
  {
   "cell_type": "markdown",
   "id": "3d87bb4b",
   "metadata": {},
   "source": [
    "Method ```count_documents()``` is equivalent to ```find()``` plus transforming the cursor object into a list and computing its length."
   ]
  },
  {
   "cell_type": "code",
   "execution_count": 31,
   "id": "2784bca7",
   "metadata": {},
   "outputs": [
    {
     "data": {
      "text/plain": [
       "10384"
      ]
     },
     "execution_count": 31,
     "metadata": {},
     "output_type": "execute_result"
    }
   ],
   "source": [
    "len(list(cll.find(query)))"
   ]
  },
  {
   "cell_type": "code",
   "execution_count": 32,
   "id": "d8cdf096-8f87-459f-a1be-daa4783ad01b",
   "metadata": {},
   "outputs": [
    {
     "ename": "TypeError",
     "evalue": "object of type 'Cursor' has no len()",
     "output_type": "error",
     "traceback": [
      "\u001b[1;31m---------------------------------------------------------------------------\u001b[0m",
      "\u001b[1;31mTypeError\u001b[0m                                 Traceback (most recent call last)",
      "Cell \u001b[1;32mIn[32], line 1\u001b[0m\n\u001b[1;32m----> 1\u001b[0m \u001b[38;5;28;43mlen\u001b[39;49m\u001b[43m(\u001b[49m\u001b[43mcll\u001b[49m\u001b[38;5;241;43m.\u001b[39;49m\u001b[43mfind\u001b[49m\u001b[43m(\u001b[49m\u001b[43mquery\u001b[49m\u001b[43m)\u001b[49m\u001b[43m)\u001b[49m\n",
      "\u001b[1;31mTypeError\u001b[0m: object of type 'Cursor' has no len()"
     ]
    }
   ],
   "source": [
    "len(cll.find(query))"
   ]
  },
  {
   "cell_type": "code",
   "execution_count": 33,
   "id": "4b987f16",
   "metadata": {},
   "outputs": [],
   "source": [
    "from timeit import timeit"
   ]
  },
  {
   "cell_type": "code",
   "execution_count": 34,
   "id": "44546184",
   "metadata": {},
   "outputs": [
    {
     "data": {
      "text/plain": [
       "6.425022099996568"
      ]
     },
     "execution_count": 34,
     "metadata": {},
     "output_type": "execute_result"
    }
   ],
   "source": [
    "timeit(\"\"\"cll.count_documents(query)\"\"\", number = 10, globals = {'cll':cll, 'query':query})"
   ]
  },
  {
   "cell_type": "code",
   "execution_count": 35,
   "id": "59289c00",
   "metadata": {},
   "outputs": [
    {
     "data": {
      "text/plain": [
       "8.941166300006444"
      ]
     },
     "execution_count": 35,
     "metadata": {},
     "output_type": "execute_result"
    }
   ],
   "source": [
    "timeit(\"\"\"len(list(cll.find(query)))\"\"\", number = 10, globals = {'cll':cll, 'query':query})"
   ]
  },
  {
   "cell_type": "markdown",
   "id": "836a4949",
   "metadata": {},
   "source": [
    "### Aggregation\n",
    "\n",
    "In order to perform more complex queries the filter-projection mechanism is not enough, so we have to use aggregation. As you may have seen in general MongoDB theory, aggregation is a way to specify a pipeline of operations to be performed on a collection. The `match` operator here substitutes the filter operation, and the `project` operator works in the same way as the projection in previous queries. Furthermore, we can have `group`, `unwind`, `sort` and many other operators."
   ]
  },
  {
   "cell_type": "code",
   "execution_count": 36,
   "id": "99efd507",
   "metadata": {},
   "outputs": [
    {
     "data": {
      "text/plain": [
       "{'_id': None, 'count': 10384}"
      ]
     },
     "execution_count": 36,
     "metadata": {},
     "output_type": "execute_result"
    }
   ],
   "source": [
    "cursor = cll.aggregate([\n",
    "    {'$match': query}, \n",
    "    {'$group': {'_id': None, \n",
    "                'count': {'$sum': 1}}}\n",
    "])\n",
    "\n",
    "cursor.next() #next(cursor)"
   ]
  },
  {
   "cell_type": "code",
   "execution_count": 37,
   "id": "41a2dca6",
   "metadata": {},
   "outputs": [
    {
     "data": {
      "text/plain": [
       "6.4632629999978235"
      ]
     },
     "execution_count": 37,
     "metadata": {},
     "output_type": "execute_result"
    }
   ],
   "source": [
    "# More or less as fast as the count_documents function\n",
    "timeit(\"\"\"cll.aggregate([{'$match': query}, {'$group': {'_id': None, 'count': {'$sum':1}}}])\"\"\", number = 10, globals = {'cll':cll, 'query':query})"
   ]
  },
  {
   "cell_type": "code",
   "execution_count": 38,
   "id": "bdac3e6a-cff4-4bb7-9434-dcf56b4af96e",
   "metadata": {},
   "outputs": [
    {
     "data": {
      "text/plain": [
       "{'explainVersion': '1',\n",
       " 'stages': [{'$cursor': {'queryPlanner': {'namespace': 'instacart.orders',\n",
       "     'indexFilterSet': False,\n",
       "     'parsedQuery': {'$and': [{'order_dow': {'$eq': 2}},\n",
       "       {'order_hour_of_day': {'$eq': 12}}]},\n",
       "     'queryHash': '25C8C8DA',\n",
       "     'planCacheKey': '9599425A',\n",
       "     'maxIndexedOrSolutionsReached': False,\n",
       "     'maxIndexedAndSolutionsReached': False,\n",
       "     'maxScansToExplodeReached': False,\n",
       "     'winningPlan': {'stage': 'COLLSCAN',\n",
       "      'filter': {'$and': [{'order_dow': {'$eq': 2}},\n",
       "        {'order_hour_of_day': {'$eq': 12}}]},\n",
       "      'direction': 'forward'},\n",
       "     'rejectedPlans': []}}},\n",
       "  {'$group': {'_id': {'$const': None}, 'count': {'$sum': {'$const': 1}}}}],\n",
       " 'serverInfo': {'host': 'DESKTOP-4I709AR',\n",
       "  'port': 27017,\n",
       "  'version': '5.0.8',\n",
       "  'gitVersion': 'c87e1c23421bf79614baf500fda6622bd90f674e'},\n",
       " 'serverParameters': {'internalQueryFacetBufferSizeBytes': 104857600,\n",
       "  'internalQueryFacetMaxOutputDocSizeBytes': 104857600,\n",
       "  'internalLookupStageIntermediateDocumentMaxSizeBytes': 104857600,\n",
       "  'internalDocumentSourceGroupMaxMemoryBytes': 104857600,\n",
       "  'internalQueryMaxBlockingSortMemoryUsageBytes': 104857600,\n",
       "  'internalQueryProhibitBlockingMergeOnMongoS': 0,\n",
       "  'internalQueryMaxAddToSetBytes': 104857600,\n",
       "  'internalDocumentSourceSetWindowFieldsMaxMemoryBytes': 104857600},\n",
       " 'command': {'aggregate': 'orders',\n",
       "  'pipeline': [{'$match': {'order_dow': 2, 'order_hour_of_day': 12}},\n",
       "   {'$group': {'_id': None, 'count': {'$sum': 1}}}],\n",
       "  'explain': True,\n",
       "  'lsid': {'id': Binary(b'\\x1c\\xe0D\\xb0@\\xadG@\\x8f\\xe0\\x07\\xd9\\x0b\\xbc\\xdbZ', 4)},\n",
       "  '$db': 'instacart'},\n",
       " 'ok': 1.0}"
      ]
     },
     "execution_count": 38,
     "metadata": {},
     "output_type": "execute_result"
    }
   ],
   "source": [
    "# And it can also provide an explanation of performed steps\n",
    "pipeline = [\n",
    "    {'$match': query}, \n",
    "    {'$group': {'_id': None, \n",
    "                'count': {'$sum': 1}}}\n",
    "]\n",
    "db.command('aggregate', 'orders', pipeline=pipeline, explain=True) # Notice it's a method of the database, while aggregate is a collection's method"
   ]
  },
  {
   "cell_type": "markdown",
   "id": "91bd2c63",
   "metadata": {},
   "source": [
    "### Exercise 1.2\n",
    "##### Count the total number of orders for each day of the week\n",
    "\n",
    "In SQL:"
   ]
  },
  {
   "cell_type": "code",
   "execution_count": 39,
   "id": "7ac8b10f",
   "metadata": {},
   "outputs": [],
   "source": [
    "sql = \"\"\"\n",
    "SELECT order_dow, COUNT(order_id) AS total_orders \n",
    "FROM orders \n",
    "GROUP BY order_dow\n",
    "\"\"\""
   ]
  },
  {
   "cell_type": "markdown",
   "id": "b91fb1eb",
   "metadata": {},
   "source": [
    "MongoDB aggregation framework is modeled on the concept of data processing pipelines: documents enter a multi-stage pipeline that transforms the documents into a final aggregated result."
   ]
  },
  {
   "cell_type": "code",
   "execution_count": 40,
   "id": "77196a65",
   "metadata": {},
   "outputs": [],
   "source": [
    "# SELECT order_dow, COUNT(order_id) AS total_orders\n",
    "# GROUP BY order_dow \n",
    "group = {\"$group\": {\"_id\": \"$order_dow\", \"total_orders\": {\"$sum\": 1}}}\n",
    "\n",
    "# ORDER BY total_orders DESC\n",
    "sort = {\"$sort\": {\"total_orders\": -1}}"
   ]
  },
  {
   "cell_type": "code",
   "execution_count": 41,
   "id": "f7d13ec1",
   "metadata": {},
   "outputs": [
    {
     "data": {
      "text/plain": [
       "[{'_id': None, 'total_orders': 175495},\n",
       " {'_id': 1, 'total_orders': 171572},\n",
       " {'_id': 2, 'total_orders': 136441},\n",
       " {'_id': 5, 'total_orders': 132801},\n",
       " {'_id': 6, 'total_orders': 131785},\n",
       " {'_id': 3, 'total_orders': 127555},\n",
       " {'_id': 4, 'total_orders': 124351}]"
      ]
     },
     "execution_count": 41,
     "metadata": {},
     "output_type": "execute_result"
    }
   ],
   "source": [
    "list(cll.aggregate([group, sort]))"
   ]
  },
  {
   "cell_type": "code",
   "execution_count": 42,
   "id": "d5212695",
   "metadata": {},
   "outputs": [
    {
     "data": {
      "text/html": [
       "<div>\n",
       "<style scoped>\n",
       "    .dataframe tbody tr th:only-of-type {\n",
       "        vertical-align: middle;\n",
       "    }\n",
       "\n",
       "    .dataframe tbody tr th {\n",
       "        vertical-align: top;\n",
       "    }\n",
       "\n",
       "    .dataframe thead th {\n",
       "        text-align: right;\n",
       "    }\n",
       "</style>\n",
       "<table border=\"1\" class=\"dataframe\">\n",
       "  <thead>\n",
       "    <tr style=\"text-align: right;\">\n",
       "      <th></th>\n",
       "      <th>_id</th>\n",
       "      <th>total_orders</th>\n",
       "    </tr>\n",
       "  </thead>\n",
       "  <tbody>\n",
       "    <tr>\n",
       "      <th>0</th>\n",
       "      <td>NaN</td>\n",
       "      <td>175495</td>\n",
       "    </tr>\n",
       "    <tr>\n",
       "      <th>1</th>\n",
       "      <td>1.0</td>\n",
       "      <td>171572</td>\n",
       "    </tr>\n",
       "    <tr>\n",
       "      <th>2</th>\n",
       "      <td>2.0</td>\n",
       "      <td>136441</td>\n",
       "    </tr>\n",
       "    <tr>\n",
       "      <th>3</th>\n",
       "      <td>5.0</td>\n",
       "      <td>132801</td>\n",
       "    </tr>\n",
       "    <tr>\n",
       "      <th>4</th>\n",
       "      <td>6.0</td>\n",
       "      <td>131785</td>\n",
       "    </tr>\n",
       "    <tr>\n",
       "      <th>5</th>\n",
       "      <td>3.0</td>\n",
       "      <td>127555</td>\n",
       "    </tr>\n",
       "    <tr>\n",
       "      <th>6</th>\n",
       "      <td>4.0</td>\n",
       "      <td>124351</td>\n",
       "    </tr>\n",
       "  </tbody>\n",
       "</table>\n",
       "</div>"
      ],
      "text/plain": [
       "   _id  total_orders\n",
       "0  NaN        175495\n",
       "1  1.0        171572\n",
       "2  2.0        136441\n",
       "3  5.0        132801\n",
       "4  6.0        131785\n",
       "5  3.0        127555\n",
       "6  4.0        124351"
      ]
     },
     "execution_count": 42,
     "metadata": {},
     "output_type": "execute_result"
    }
   ],
   "source": [
    "# Translate in Pandas\n",
    "pd.DataFrame.from_records(list(cll.aggregate([group, sort])))"
   ]
  },
  {
   "cell_type": "markdown",
   "id": "a7551dd7",
   "metadata": {},
   "source": [
    "### Exercise 1.3 \n",
    "##### Count the total number of orders for each day of the weekend (saturday, sunday)\n",
    "Let's do it in SQL"
   ]
  },
  {
   "cell_type": "code",
   "execution_count": 43,
   "id": "1b51f4f8",
   "metadata": {},
   "outputs": [],
   "source": [
    "sql = \"\"\"\n",
    "SELECT order_dow, COUNT(order_id) AS total_orders \n",
    "FROM orders \n",
    "WHERE order_dow IN (6, 0)\n",
    "GROUP BY order_dow\n",
    "ORDER BY total_orders DESC\n",
    "\"\"\"\n",
    "# Here Sunday = 0, Saturday = 6"
   ]
  },
  {
   "cell_type": "code",
   "execution_count": 44,
   "id": "13addf11",
   "metadata": {},
   "outputs": [],
   "source": [
    "# SELECT order_dow, COUNT(order_id) AS total_orders \n",
    "# GROUP BY order_dow \n",
    "group = {\"$group\": {\"_id\": \"$order_dow\", \"total_orders\": {\"$sum\": 1}}}\n",
    "\n",
    "# WHERE order_dow IN (6, 0)\n",
    "match = {\"$match\": {\"$or\": [{\"order_dow\": None}, {\"order_dow\": {\"$gt\": 5}}]}}  # Here Sunday = None, Saturday = 6\n",
    "\n",
    "# ORDER BY total_orders DESC\n",
    "sort = {\"$sort\": {\"total_orders\": -1}}"
   ]
  },
  {
   "cell_type": "code",
   "execution_count": 45,
   "id": "980224d5",
   "metadata": {},
   "outputs": [
    {
     "data": {
      "text/html": [
       "<div>\n",
       "<style scoped>\n",
       "    .dataframe tbody tr th:only-of-type {\n",
       "        vertical-align: middle;\n",
       "    }\n",
       "\n",
       "    .dataframe tbody tr th {\n",
       "        vertical-align: top;\n",
       "    }\n",
       "\n",
       "    .dataframe thead th {\n",
       "        text-align: right;\n",
       "    }\n",
       "</style>\n",
       "<table border=\"1\" class=\"dataframe\">\n",
       "  <thead>\n",
       "    <tr style=\"text-align: right;\">\n",
       "      <th></th>\n",
       "      <th>_id</th>\n",
       "      <th>total_orders</th>\n",
       "    </tr>\n",
       "  </thead>\n",
       "  <tbody>\n",
       "    <tr>\n",
       "      <th>0</th>\n",
       "      <td>0.0</td>\n",
       "      <td>175495</td>\n",
       "    </tr>\n",
       "    <tr>\n",
       "      <th>1</th>\n",
       "      <td>6.0</td>\n",
       "      <td>131785</td>\n",
       "    </tr>\n",
       "  </tbody>\n",
       "</table>\n",
       "</div>"
      ],
      "text/plain": [
       "   _id  total_orders\n",
       "0  0.0        175495\n",
       "1  6.0        131785"
      ]
     },
     "execution_count": 45,
     "metadata": {},
     "output_type": "execute_result"
    }
   ],
   "source": [
    "pd.DataFrame.from_records(list(cll.aggregate([match, group, sort]))).fillna(0)"
   ]
  },
  {
   "cell_type": "markdown",
   "id": "d201599c",
   "metadata": {},
   "source": [
    "### Exercise 1.4\n",
    "##### Select the lists of products ordered by each user at each hour of day"
   ]
  },
  {
   "cell_type": "code",
   "execution_count": 46,
   "id": "a6c1c84e",
   "metadata": {},
   "outputs": [
    {
     "ename": "OperationFailure",
     "evalue": "PlanExecutor error during aggregation :: caused by :: Exceeded memory limit for $group, but didn't allow external sort. Pass allowDiskUse:true to opt in., full error: {'ok': 0.0, 'errmsg': \"PlanExecutor error during aggregation :: caused by :: Exceeded memory limit for $group, but didn't allow external sort. Pass allowDiskUse:true to opt in.\", 'code': 292, 'codeName': 'QueryExceededMemoryLimitNoDiskUseAllowed'}",
     "output_type": "error",
     "traceback": [
      "\u001b[1;31m---------------------------------------------------------------------------\u001b[0m",
      "\u001b[1;31mOperationFailure\u001b[0m                          Traceback (most recent call last)",
      "Cell \u001b[1;32mIn[46], line 6\u001b[0m\n\u001b[0;32m      1\u001b[0m group \u001b[38;5;241m=\u001b[39m {\u001b[38;5;124m\"\u001b[39m\u001b[38;5;124m$group\u001b[39m\u001b[38;5;124m\"\u001b[39m: {\u001b[38;5;124m\"\u001b[39m\u001b[38;5;124m_id\u001b[39m\u001b[38;5;124m\"\u001b[39m: {\u001b[38;5;124m\"\u001b[39m\u001b[38;5;124muser_id\u001b[39m\u001b[38;5;124m\"\u001b[39m: \u001b[38;5;124m\"\u001b[39m\u001b[38;5;124m$user_id\u001b[39m\u001b[38;5;124m\"\u001b[39m, \u001b[38;5;124m\"\u001b[39m\u001b[38;5;124morder_dow\u001b[39m\u001b[38;5;124m\"\u001b[39m: \u001b[38;5;124m\"\u001b[39m\u001b[38;5;124m$order_dow\u001b[39m\u001b[38;5;124m\"\u001b[39m}, \n\u001b[0;32m      2\u001b[0m                     \u001b[38;5;124m\"\u001b[39m\u001b[38;5;124morders\u001b[39m\u001b[38;5;124m\"\u001b[39m: {\u001b[38;5;124m\"\u001b[39m\u001b[38;5;124m$push\u001b[39m\u001b[38;5;124m\"\u001b[39m: \u001b[38;5;124m\"\u001b[39m\u001b[38;5;124m$products.product_name\u001b[39m\u001b[38;5;124m\"\u001b[39m}}}\n\u001b[0;32m      4\u001b[0m \u001b[38;5;66;03m# $push is used to append to a list\u001b[39;00m\n\u001b[1;32m----> 6\u001b[0m cursor \u001b[38;5;241m=\u001b[39m \u001b[43mcll\u001b[49m\u001b[38;5;241;43m.\u001b[39;49m\u001b[43maggregate\u001b[49m\u001b[43m(\u001b[49m\u001b[43m[\u001b[49m\u001b[43mgroup\u001b[49m\u001b[43m]\u001b[49m\u001b[43m)\u001b[49m \u001b[38;5;66;03m# this query gives a memory error\u001b[39;00m\n\u001b[0;32m      8\u001b[0m \u001b[38;5;28mnext\u001b[39m(cursor)\n",
      "File \u001b[1;32m~\\miniconda3\\Lib\\site-packages\\pymongo\\synchronous\\collection.py:2958\u001b[0m, in \u001b[0;36maggregate\u001b[1;34m(self, pipeline, session, let, comment, **kwargs)\u001b[0m\n\u001b[0;32m   2948\u001b[0m \u001b[38;5;28;01mdef\u001b[39;00m \u001b[38;5;21maggregate_raw_batches\u001b[39m(\n\u001b[0;32m   2949\u001b[0m     \u001b[38;5;28mself\u001b[39m,\n\u001b[0;32m   2950\u001b[0m     pipeline: _Pipeline,\n\u001b[1;32m   (...)\u001b[0m\n\u001b[0;32m   2953\u001b[0m     \u001b[38;5;241m*\u001b[39m\u001b[38;5;241m*\u001b[39mkwargs: Any,\n\u001b[0;32m   2954\u001b[0m ) \u001b[38;5;241m-\u001b[39m\u001b[38;5;241m>\u001b[39m RawBatchCursor[_DocumentType]:\n\u001b[0;32m   2955\u001b[0m \u001b[38;5;250m    \u001b[39m\u001b[38;5;124;03m\"\"\"Perform an aggregation and retrieve batches of raw BSON.\u001b[39;00m\n\u001b[0;32m   2956\u001b[0m \n\u001b[0;32m   2957\u001b[0m \u001b[38;5;124;03m    Similar to the :meth:`aggregate` method but returns a\u001b[39;00m\n\u001b[1;32m-> 2958\u001b[0m \u001b[38;5;124;03m    :class:`~pymongo.cursor.RawBatchCursor`.\u001b[39;00m\n\u001b[0;32m   2959\u001b[0m \n\u001b[0;32m   2960\u001b[0m \u001b[38;5;124;03m    This example demonstrates how to work with raw batches, but in practice\u001b[39;00m\n\u001b[0;32m   2961\u001b[0m \u001b[38;5;124;03m    raw batches should be passed to an external library that can decode\u001b[39;00m\n\u001b[0;32m   2962\u001b[0m \u001b[38;5;124;03m    BSON into another data type, rather than used with PyMongo's\u001b[39;00m\n\u001b[0;32m   2963\u001b[0m \u001b[38;5;124;03m    :mod:`bson` module.\u001b[39;00m\n\u001b[0;32m   2964\u001b[0m \n\u001b[0;32m   2965\u001b[0m \u001b[38;5;124;03m      >>> import bson\u001b[39;00m\n\u001b[0;32m   2966\u001b[0m \u001b[38;5;124;03m      >>> cursor = db.test.aggregate_raw_batches([\u001b[39;00m\n\u001b[0;32m   2967\u001b[0m \u001b[38;5;124;03m      ...     {'$project': {'x': {'$multiply': [2, '$x']}}}])\u001b[39;00m\n\u001b[0;32m   2968\u001b[0m \u001b[38;5;124;03m      >>> for batch in cursor:\u001b[39;00m\n\u001b[0;32m   2969\u001b[0m \u001b[38;5;124;03m      ...     print(bson.decode_all(batch))\u001b[39;00m\n\u001b[0;32m   2970\u001b[0m \n\u001b[0;32m   2971\u001b[0m \u001b[38;5;124;03m    .. note:: aggregate_raw_batches does not support auto encryption.\u001b[39;00m\n\u001b[0;32m   2972\u001b[0m \n\u001b[0;32m   2973\u001b[0m \u001b[38;5;124;03m    .. versionchanged:: 3.12\u001b[39;00m\n\u001b[0;32m   2974\u001b[0m \u001b[38;5;124;03m       Added session support.\u001b[39;00m\n\u001b[0;32m   2975\u001b[0m \n\u001b[0;32m   2976\u001b[0m \u001b[38;5;124;03m    .. versionadded:: 3.6\u001b[39;00m\n\u001b[0;32m   2977\u001b[0m \u001b[38;5;124;03m    \"\"\"\u001b[39;00m\n\u001b[0;32m   2978\u001b[0m     \u001b[38;5;66;03m# OP_MSG is required to support encryption.\u001b[39;00m\n\u001b[0;32m   2979\u001b[0m     \u001b[38;5;28;01mif\u001b[39;00m \u001b[38;5;28mself\u001b[39m\u001b[38;5;241m.\u001b[39m_database\u001b[38;5;241m.\u001b[39mclient\u001b[38;5;241m.\u001b[39m_encrypter:\n",
      "File \u001b[1;32m~\\miniconda3\\Lib\\site-packages\\pymongo\\_csot.py:119\u001b[0m, in \u001b[0;36mcsot_wrapper\u001b[1;34m(self, *args, **kwargs)\u001b[0m\n\u001b[0;32m    117\u001b[0m     \u001b[38;5;28;01mif\u001b[39;00m timeout \u001b[38;5;129;01mis\u001b[39;00m \u001b[38;5;129;01mnot\u001b[39;00m \u001b[38;5;28;01mNone\u001b[39;00m:\n\u001b[0;32m    118\u001b[0m         \u001b[38;5;28;01mwith\u001b[39;00m _TimeoutContext(timeout):\n\u001b[1;32m--> 119\u001b[0m             \u001b[38;5;28;01mreturn\u001b[39;00m func(\u001b[38;5;28mself\u001b[39m, \u001b[38;5;241m*\u001b[39margs, \u001b[38;5;241m*\u001b[39m\u001b[38;5;241m*\u001b[39mkwargs)\n\u001b[0;32m    120\u001b[0m \u001b[38;5;28;01mreturn\u001b[39;00m func(\u001b[38;5;28mself\u001b[39m, \u001b[38;5;241m*\u001b[39margs, \u001b[38;5;241m*\u001b[39m\u001b[38;5;241m*\u001b[39mkwargs)\n",
      "File \u001b[1;32m~\\miniconda3\\Lib\\site-packages\\pymongo\\synchronous\\collection.py:2866\u001b[0m, in \u001b[0;36m_aggregate\u001b[1;34m(self, aggregation_command, pipeline, cursor_class, session, explicit_session, let, comment, **kwargs)\u001b[0m\n\u001b[0;32m   2853\u001b[0m \u001b[38;5;28;01mdef\u001b[39;00m \u001b[38;5;21maggregate\u001b[39m(\n\u001b[0;32m   2854\u001b[0m     \u001b[38;5;28mself\u001b[39m,\n\u001b[0;32m   2855\u001b[0m     pipeline: _Pipeline,\n\u001b[1;32m   (...)\u001b[0m\n\u001b[0;32m   2859\u001b[0m     \u001b[38;5;241m*\u001b[39m\u001b[38;5;241m*\u001b[39mkwargs: Any,\n\u001b[0;32m   2860\u001b[0m ) \u001b[38;5;241m-\u001b[39m\u001b[38;5;241m>\u001b[39m CommandCursor[_DocumentType]:\n\u001b[0;32m   2861\u001b[0m \u001b[38;5;250m    \u001b[39m\u001b[38;5;124;03m\"\"\"Perform an aggregation using the aggregation framework on this\u001b[39;00m\n\u001b[0;32m   2862\u001b[0m \u001b[38;5;124;03m    collection.\u001b[39;00m\n\u001b[0;32m   2863\u001b[0m \n\u001b[0;32m   2864\u001b[0m \u001b[38;5;124;03m    The :meth:`aggregate` method obeys the :attr:`read_preference` of this\u001b[39;00m\n\u001b[0;32m   2865\u001b[0m \u001b[38;5;124;03m    :class:`Collection`, except when ``$out`` or ``$merge`` are used on\u001b[39;00m\n\u001b[1;32m-> 2866\u001b[0m \u001b[38;5;124;03m    MongoDB <5.0, in which case\u001b[39;00m\n\u001b[0;32m   2867\u001b[0m \u001b[38;5;124;03m    :attr:`~pymongo.read_preferences.ReadPreference.PRIMARY` is used.\u001b[39;00m\n\u001b[0;32m   2868\u001b[0m \n\u001b[0;32m   2869\u001b[0m \u001b[38;5;124;03m    .. note:: This method does not support the 'explain' option. Please\u001b[39;00m\n\u001b[0;32m   2870\u001b[0m \u001b[38;5;124;03m       use `PyMongoExplain <https://pypi.org/project/pymongoexplain/>`_\u001b[39;00m\n\u001b[0;32m   2871\u001b[0m \u001b[38;5;124;03m       instead. An example is included in the :ref:`aggregate-examples`\u001b[39;00m\n\u001b[0;32m   2872\u001b[0m \u001b[38;5;124;03m       documentation.\u001b[39;00m\n\u001b[0;32m   2873\u001b[0m \n\u001b[0;32m   2874\u001b[0m \u001b[38;5;124;03m    .. note:: The :attr:`~pymongo.collection.Collection.write_concern` of\u001b[39;00m\n\u001b[0;32m   2875\u001b[0m \u001b[38;5;124;03m       this collection is automatically applied to this operation.\u001b[39;00m\n\u001b[0;32m   2876\u001b[0m \n\u001b[0;32m   2877\u001b[0m \u001b[38;5;124;03m    :param pipeline: a list of aggregation pipeline stages\u001b[39;00m\n\u001b[0;32m   2878\u001b[0m \u001b[38;5;124;03m    :param session: a\u001b[39;00m\n\u001b[0;32m   2879\u001b[0m \u001b[38;5;124;03m        :class:`~pymongo.client_session.ClientSession`.\u001b[39;00m\n\u001b[0;32m   2880\u001b[0m \u001b[38;5;124;03m    :param let: A dict of parameter names and values. Values must be\u001b[39;00m\n\u001b[0;32m   2881\u001b[0m \u001b[38;5;124;03m        constant or closed expressions that do not reference document\u001b[39;00m\n\u001b[0;32m   2882\u001b[0m \u001b[38;5;124;03m        fields. Parameters can then be accessed as variables in an\u001b[39;00m\n\u001b[0;32m   2883\u001b[0m \u001b[38;5;124;03m        aggregate expression context (e.g. ``\"$$var\"``). This option is\u001b[39;00m\n\u001b[0;32m   2884\u001b[0m \u001b[38;5;124;03m        only supported on MongoDB >= 5.0.\u001b[39;00m\n\u001b[0;32m   2885\u001b[0m \u001b[38;5;124;03m    :param comment: A user-provided comment to attach to this\u001b[39;00m\n\u001b[0;32m   2886\u001b[0m \u001b[38;5;124;03m        command.\u001b[39;00m\n\u001b[0;32m   2887\u001b[0m \u001b[38;5;124;03m    :param kwargs: extra `aggregate command`_ parameters.\u001b[39;00m\n\u001b[0;32m   2888\u001b[0m \n\u001b[0;32m   2889\u001b[0m \u001b[38;5;124;03m    All optional `aggregate command`_ parameters should be passed as\u001b[39;00m\n\u001b[0;32m   2890\u001b[0m \u001b[38;5;124;03m    keyword arguments to this method. Valid options include, but are not\u001b[39;00m\n\u001b[0;32m   2891\u001b[0m \u001b[38;5;124;03m    limited to:\u001b[39;00m\n\u001b[0;32m   2892\u001b[0m \n\u001b[0;32m   2893\u001b[0m \u001b[38;5;124;03m      - `allowDiskUse` (bool): Enables writing to temporary files. When set\u001b[39;00m\n\u001b[0;32m   2894\u001b[0m \u001b[38;5;124;03m        to True, aggregation stages can write data to the _tmp subdirectory\u001b[39;00m\n\u001b[0;32m   2895\u001b[0m \u001b[38;5;124;03m        of the --dbpath directory. The default is False.\u001b[39;00m\n\u001b[0;32m   2896\u001b[0m \u001b[38;5;124;03m      - `maxTimeMS` (int): The maximum amount of time to allow the operation\u001b[39;00m\n\u001b[0;32m   2897\u001b[0m \u001b[38;5;124;03m        to run in milliseconds.\u001b[39;00m\n\u001b[0;32m   2898\u001b[0m \u001b[38;5;124;03m      - `batchSize` (int): The maximum number of documents to return per\u001b[39;00m\n\u001b[0;32m   2899\u001b[0m \u001b[38;5;124;03m        batch. Ignored if the connected mongod or mongos does not support\u001b[39;00m\n\u001b[0;32m   2900\u001b[0m \u001b[38;5;124;03m        returning aggregate results using a cursor.\u001b[39;00m\n\u001b[0;32m   2901\u001b[0m \u001b[38;5;124;03m      - `collation` (optional): An instance of\u001b[39;00m\n\u001b[0;32m   2902\u001b[0m \u001b[38;5;124;03m        :class:`~pymongo.collation.Collation`.\u001b[39;00m\n\u001b[0;32m   2903\u001b[0m \n\u001b[0;32m   2904\u001b[0m \n\u001b[0;32m   2905\u001b[0m \u001b[38;5;124;03m    :return: A :class:`~pymongo.command_cursor.CommandCursor` over the result\u001b[39;00m\n\u001b[0;32m   2906\u001b[0m \u001b[38;5;124;03m      set.\u001b[39;00m\n\u001b[0;32m   2907\u001b[0m \n\u001b[0;32m   2908\u001b[0m \u001b[38;5;124;03m    .. versionchanged:: 4.1\u001b[39;00m\n\u001b[0;32m   2909\u001b[0m \u001b[38;5;124;03m       Added ``comment`` parameter.\u001b[39;00m\n\u001b[0;32m   2910\u001b[0m \u001b[38;5;124;03m       Added ``let`` parameter.\u001b[39;00m\n\u001b[0;32m   2911\u001b[0m \u001b[38;5;124;03m       Support $merge and $out executing on secondaries according to the\u001b[39;00m\n\u001b[0;32m   2912\u001b[0m \u001b[38;5;124;03m       collection's :attr:`read_preference`.\u001b[39;00m\n\u001b[0;32m   2913\u001b[0m \u001b[38;5;124;03m    .. versionchanged:: 4.0\u001b[39;00m\n\u001b[0;32m   2914\u001b[0m \u001b[38;5;124;03m       Removed the ``useCursor`` option.\u001b[39;00m\n\u001b[0;32m   2915\u001b[0m \u001b[38;5;124;03m    .. versionchanged:: 3.9\u001b[39;00m\n\u001b[0;32m   2916\u001b[0m \u001b[38;5;124;03m       Apply this collection's read concern to pipelines containing the\u001b[39;00m\n\u001b[0;32m   2917\u001b[0m \u001b[38;5;124;03m       `$out` stage when connected to MongoDB >= 4.2.\u001b[39;00m\n\u001b[0;32m   2918\u001b[0m \u001b[38;5;124;03m       Added support for the ``$merge`` pipeline stage.\u001b[39;00m\n\u001b[0;32m   2919\u001b[0m \u001b[38;5;124;03m       Aggregations that write always use read preference\u001b[39;00m\n\u001b[0;32m   2920\u001b[0m \u001b[38;5;124;03m       :attr:`~pymongo.read_preferences.ReadPreference.PRIMARY`.\u001b[39;00m\n\u001b[0;32m   2921\u001b[0m \u001b[38;5;124;03m    .. versionchanged:: 3.6\u001b[39;00m\n\u001b[0;32m   2922\u001b[0m \u001b[38;5;124;03m       Added the `session` parameter. Added the `maxAwaitTimeMS` option.\u001b[39;00m\n\u001b[0;32m   2923\u001b[0m \u001b[38;5;124;03m       Deprecated the `useCursor` option.\u001b[39;00m\n\u001b[0;32m   2924\u001b[0m \u001b[38;5;124;03m    .. versionchanged:: 3.4\u001b[39;00m\n\u001b[0;32m   2925\u001b[0m \u001b[38;5;124;03m       Apply this collection's write concern automatically to this operation\u001b[39;00m\n\u001b[0;32m   2926\u001b[0m \u001b[38;5;124;03m       when connected to MongoDB >= 3.4. Support the `collation` option.\u001b[39;00m\n\u001b[0;32m   2927\u001b[0m \u001b[38;5;124;03m    .. versionchanged:: 3.0\u001b[39;00m\n\u001b[0;32m   2928\u001b[0m \u001b[38;5;124;03m       The :meth:`aggregate` method always returns a CommandCursor. The\u001b[39;00m\n\u001b[0;32m   2929\u001b[0m \u001b[38;5;124;03m       pipeline argument must be a list.\u001b[39;00m\n\u001b[0;32m   2930\u001b[0m \n\u001b[0;32m   2931\u001b[0m \u001b[38;5;124;03m    .. seealso:: :doc:`/examples/aggregation`\u001b[39;00m\n\u001b[0;32m   2932\u001b[0m \n\u001b[0;32m   2933\u001b[0m \u001b[38;5;124;03m    .. _aggregate command:\u001b[39;00m\n\u001b[0;32m   2934\u001b[0m \u001b[38;5;124;03m        https://mongodb.com/docs/manual/reference/command/aggregate\u001b[39;00m\n\u001b[0;32m   2935\u001b[0m \u001b[38;5;124;03m    \"\"\"\u001b[39;00m\n\u001b[0;32m   2936\u001b[0m     \u001b[38;5;28;01mwith\u001b[39;00m \u001b[38;5;28mself\u001b[39m\u001b[38;5;241m.\u001b[39m_database\u001b[38;5;241m.\u001b[39mclient\u001b[38;5;241m.\u001b[39m_tmp_session(session, close\u001b[38;5;241m=\u001b[39m\u001b[38;5;28;01mFalse\u001b[39;00m) \u001b[38;5;28;01mas\u001b[39;00m s:\n\u001b[0;32m   2937\u001b[0m         \u001b[38;5;28;01mreturn\u001b[39;00m \u001b[38;5;28mself\u001b[39m\u001b[38;5;241m.\u001b[39m_aggregate(\n\u001b[0;32m   2938\u001b[0m             _CollectionAggregationCommand,\n\u001b[0;32m   2939\u001b[0m             pipeline,\n\u001b[1;32m   (...)\u001b[0m\n\u001b[0;32m   2945\u001b[0m             \u001b[38;5;241m*\u001b[39m\u001b[38;5;241m*\u001b[39mkwargs,\n\u001b[0;32m   2946\u001b[0m         )\n",
      "File \u001b[1;32m~\\miniconda3\\Lib\\site-packages\\pymongo\\synchronous\\mongo_client.py:1863\u001b[0m, in \u001b[0;36mMongoClient._retryable_read\u001b[1;34m(self, func, read_pref, session, operation, address, retryable, operation_id)\u001b[0m\n\u001b[0;32m   1858\u001b[0m \u001b[38;5;66;03m# Ensure that the client supports retrying on reads and there is no session in\u001b[39;00m\n\u001b[0;32m   1859\u001b[0m \u001b[38;5;66;03m# transaction, otherwise, we will not support retry behavior for this call.\u001b[39;00m\n\u001b[0;32m   1860\u001b[0m retryable \u001b[38;5;241m=\u001b[39m \u001b[38;5;28mbool\u001b[39m(\n\u001b[0;32m   1861\u001b[0m     retryable \u001b[38;5;129;01mand\u001b[39;00m \u001b[38;5;28mself\u001b[39m\u001b[38;5;241m.\u001b[39moptions\u001b[38;5;241m.\u001b[39mretry_reads \u001b[38;5;129;01mand\u001b[39;00m \u001b[38;5;129;01mnot\u001b[39;00m (session \u001b[38;5;129;01mand\u001b[39;00m session\u001b[38;5;241m.\u001b[39min_transaction)\n\u001b[0;32m   1862\u001b[0m )\n\u001b[1;32m-> 1863\u001b[0m \u001b[38;5;28;01mreturn\u001b[39;00m \u001b[38;5;28;43mself\u001b[39;49m\u001b[38;5;241;43m.\u001b[39;49m\u001b[43m_retry_internal\u001b[49m\u001b[43m(\u001b[49m\n\u001b[0;32m   1864\u001b[0m \u001b[43m    \u001b[49m\u001b[43mfunc\u001b[49m\u001b[43m,\u001b[49m\n\u001b[0;32m   1865\u001b[0m \u001b[43m    \u001b[49m\u001b[43msession\u001b[49m\u001b[43m,\u001b[49m\n\u001b[0;32m   1866\u001b[0m \u001b[43m    \u001b[49m\u001b[38;5;28;43;01mNone\u001b[39;49;00m\u001b[43m,\u001b[49m\n\u001b[0;32m   1867\u001b[0m \u001b[43m    \u001b[49m\u001b[43moperation\u001b[49m\u001b[43m,\u001b[49m\n\u001b[0;32m   1868\u001b[0m \u001b[43m    \u001b[49m\u001b[43mis_read\u001b[49m\u001b[38;5;241;43m=\u001b[39;49m\u001b[38;5;28;43;01mTrue\u001b[39;49;00m\u001b[43m,\u001b[49m\n\u001b[0;32m   1869\u001b[0m \u001b[43m    \u001b[49m\u001b[43maddress\u001b[49m\u001b[38;5;241;43m=\u001b[39;49m\u001b[43maddress\u001b[49m\u001b[43m,\u001b[49m\n\u001b[0;32m   1870\u001b[0m \u001b[43m    \u001b[49m\u001b[43mread_pref\u001b[49m\u001b[38;5;241;43m=\u001b[39;49m\u001b[43mread_pref\u001b[49m\u001b[43m,\u001b[49m\n\u001b[0;32m   1871\u001b[0m \u001b[43m    \u001b[49m\u001b[43mretryable\u001b[49m\u001b[38;5;241;43m=\u001b[39;49m\u001b[43mretryable\u001b[49m\u001b[43m,\u001b[49m\n\u001b[0;32m   1872\u001b[0m \u001b[43m    \u001b[49m\u001b[43moperation_id\u001b[49m\u001b[38;5;241;43m=\u001b[39;49m\u001b[43moperation_id\u001b[49m\u001b[43m,\u001b[49m\n\u001b[0;32m   1873\u001b[0m \u001b[43m\u001b[49m\u001b[43m)\u001b[49m\n",
      "File \u001b[1;32m~\\miniconda3\\Lib\\site-packages\\pymongo\\_csot.py:119\u001b[0m, in \u001b[0;36mcsot_wrapper\u001b[1;34m(self, *args, **kwargs)\u001b[0m\n\u001b[0;32m    117\u001b[0m     \u001b[38;5;28;01mif\u001b[39;00m timeout \u001b[38;5;129;01mis\u001b[39;00m \u001b[38;5;129;01mnot\u001b[39;00m \u001b[38;5;28;01mNone\u001b[39;00m:\n\u001b[0;32m    118\u001b[0m         \u001b[38;5;28;01mwith\u001b[39;00m _TimeoutContext(timeout):\n\u001b[1;32m--> 119\u001b[0m             \u001b[38;5;28;01mreturn\u001b[39;00m func(\u001b[38;5;28mself\u001b[39m, \u001b[38;5;241m*\u001b[39margs, \u001b[38;5;241m*\u001b[39m\u001b[38;5;241m*\u001b[39mkwargs)\n\u001b[0;32m    120\u001b[0m \u001b[38;5;28;01mreturn\u001b[39;00m func(\u001b[38;5;28mself\u001b[39m, \u001b[38;5;241m*\u001b[39margs, \u001b[38;5;241m*\u001b[39m\u001b[38;5;241m*\u001b[39mkwargs)\n",
      "File \u001b[1;32m~\\miniconda3\\Lib\\site-packages\\pymongo\\synchronous\\mongo_client.py:1830\u001b[0m, in \u001b[0;36mMongoClient._retry_internal\u001b[1;34m(self, func, session, bulk, operation, is_read, address, read_pref, retryable, operation_id)\u001b[0m\n\u001b[0;32m   1793\u001b[0m \u001b[38;5;129m@_csot\u001b[39m\u001b[38;5;241m.\u001b[39mapply\n\u001b[0;32m   1794\u001b[0m \u001b[38;5;28;01mdef\u001b[39;00m \u001b[38;5;21m_retry_internal\u001b[39m(\n\u001b[0;32m   1795\u001b[0m     \u001b[38;5;28mself\u001b[39m,\n\u001b[1;32m   (...)\u001b[0m\n\u001b[0;32m   1804\u001b[0m     operation_id: Optional[\u001b[38;5;28mint\u001b[39m] \u001b[38;5;241m=\u001b[39m \u001b[38;5;28;01mNone\u001b[39;00m,\n\u001b[0;32m   1805\u001b[0m ) \u001b[38;5;241m-\u001b[39m\u001b[38;5;241m>\u001b[39m T:\n\u001b[0;32m   1806\u001b[0m \u001b[38;5;250m    \u001b[39m\u001b[38;5;124;03m\"\"\"Internal retryable helper for all client transactions.\u001b[39;00m\n\u001b[0;32m   1807\u001b[0m \n\u001b[0;32m   1808\u001b[0m \u001b[38;5;124;03m    :param func: Callback function we want to retry\u001b[39;00m\n\u001b[1;32m   (...)\u001b[0m\n\u001b[0;32m   1817\u001b[0m \u001b[38;5;124;03m    :return: Output of the calling func()\u001b[39;00m\n\u001b[0;32m   1818\u001b[0m \u001b[38;5;124;03m    \"\"\"\u001b[39;00m\n\u001b[0;32m   1819\u001b[0m     \u001b[38;5;28;01mreturn\u001b[39;00m \u001b[43m_ClientConnectionRetryable\u001b[49m\u001b[43m(\u001b[49m\n\u001b[0;32m   1820\u001b[0m \u001b[43m        \u001b[49m\u001b[43mmongo_client\u001b[49m\u001b[38;5;241;43m=\u001b[39;49m\u001b[38;5;28;43mself\u001b[39;49m\u001b[43m,\u001b[49m\n\u001b[0;32m   1821\u001b[0m \u001b[43m        \u001b[49m\u001b[43mfunc\u001b[49m\u001b[38;5;241;43m=\u001b[39;49m\u001b[43mfunc\u001b[49m\u001b[43m,\u001b[49m\n\u001b[0;32m   1822\u001b[0m \u001b[43m        \u001b[49m\u001b[43mbulk\u001b[49m\u001b[38;5;241;43m=\u001b[39;49m\u001b[43mbulk\u001b[49m\u001b[43m,\u001b[49m\n\u001b[0;32m   1823\u001b[0m \u001b[43m        \u001b[49m\u001b[43moperation\u001b[49m\u001b[38;5;241;43m=\u001b[39;49m\u001b[43moperation\u001b[49m\u001b[43m,\u001b[49m\n\u001b[0;32m   1824\u001b[0m \u001b[43m        \u001b[49m\u001b[43mis_read\u001b[49m\u001b[38;5;241;43m=\u001b[39;49m\u001b[43mis_read\u001b[49m\u001b[43m,\u001b[49m\n\u001b[0;32m   1825\u001b[0m \u001b[43m        \u001b[49m\u001b[43msession\u001b[49m\u001b[38;5;241;43m=\u001b[39;49m\u001b[43msession\u001b[49m\u001b[43m,\u001b[49m\n\u001b[0;32m   1826\u001b[0m \u001b[43m        \u001b[49m\u001b[43mread_pref\u001b[49m\u001b[38;5;241;43m=\u001b[39;49m\u001b[43mread_pref\u001b[49m\u001b[43m,\u001b[49m\n\u001b[0;32m   1827\u001b[0m \u001b[43m        \u001b[49m\u001b[43maddress\u001b[49m\u001b[38;5;241;43m=\u001b[39;49m\u001b[43maddress\u001b[49m\u001b[43m,\u001b[49m\n\u001b[0;32m   1828\u001b[0m \u001b[43m        \u001b[49m\u001b[43mretryable\u001b[49m\u001b[38;5;241;43m=\u001b[39;49m\u001b[43mretryable\u001b[49m\u001b[43m,\u001b[49m\n\u001b[0;32m   1829\u001b[0m \u001b[43m        \u001b[49m\u001b[43moperation_id\u001b[49m\u001b[38;5;241;43m=\u001b[39;49m\u001b[43moperation_id\u001b[49m\u001b[43m,\u001b[49m\n\u001b[1;32m-> 1830\u001b[0m \u001b[43m    \u001b[49m\u001b[43m)\u001b[49m\u001b[38;5;241;43m.\u001b[39;49m\u001b[43mrun\u001b[49m\u001b[43m(\u001b[49m\u001b[43m)\u001b[49m\n",
      "File \u001b[1;32m~\\miniconda3\\Lib\\site-packages\\pymongo\\synchronous\\mongo_client.py:2554\u001b[0m, in \u001b[0;36m_ClientConnectionRetryable.run\u001b[1;34m(self)\u001b[0m\n\u001b[0;32m   2552\u001b[0m \u001b[38;5;28mself\u001b[39m\u001b[38;5;241m.\u001b[39m_check_last_error(check_csot\u001b[38;5;241m=\u001b[39m\u001b[38;5;28;01mTrue\u001b[39;00m)\n\u001b[0;32m   2553\u001b[0m \u001b[38;5;28;01mtry\u001b[39;00m:\n\u001b[1;32m-> 2554\u001b[0m     \u001b[38;5;28;01mreturn\u001b[39;00m \u001b[38;5;28;43mself\u001b[39;49m\u001b[38;5;241;43m.\u001b[39;49m\u001b[43m_read\u001b[49m\u001b[43m(\u001b[49m\u001b[43m)\u001b[49m \u001b[38;5;28;01mif\u001b[39;00m \u001b[38;5;28mself\u001b[39m\u001b[38;5;241m.\u001b[39m_is_read \u001b[38;5;28;01melse\u001b[39;00m \u001b[38;5;28mself\u001b[39m\u001b[38;5;241m.\u001b[39m_write()\n\u001b[0;32m   2555\u001b[0m \u001b[38;5;28;01mexcept\u001b[39;00m ServerSelectionTimeoutError:\n\u001b[0;32m   2556\u001b[0m     \u001b[38;5;66;03m# The application may think the write was never attempted\u001b[39;00m\n\u001b[0;32m   2557\u001b[0m     \u001b[38;5;66;03m# if we raise ServerSelectionTimeoutError on the retry\u001b[39;00m\n\u001b[0;32m   2558\u001b[0m     \u001b[38;5;66;03m# attempt. Raise the original exception instead.\u001b[39;00m\n\u001b[0;32m   2559\u001b[0m     \u001b[38;5;28mself\u001b[39m\u001b[38;5;241m.\u001b[39m_check_last_error()\n",
      "File \u001b[1;32m~\\miniconda3\\Lib\\site-packages\\pymongo\\synchronous\\mongo_client.py:2697\u001b[0m, in \u001b[0;36m_ClientConnectionRetryable._read\u001b[1;34m(self)\u001b[0m\n\u001b[0;32m   2695\u001b[0m \u001b[38;5;28;01mif\u001b[39;00m \u001b[38;5;28mself\u001b[39m\u001b[38;5;241m.\u001b[39m_retrying \u001b[38;5;129;01mand\u001b[39;00m \u001b[38;5;129;01mnot\u001b[39;00m \u001b[38;5;28mself\u001b[39m\u001b[38;5;241m.\u001b[39m_retryable:\n\u001b[0;32m   2696\u001b[0m     \u001b[38;5;28mself\u001b[39m\u001b[38;5;241m.\u001b[39m_check_last_error()\n\u001b[1;32m-> 2697\u001b[0m \u001b[38;5;28;01mreturn\u001b[39;00m \u001b[38;5;28;43mself\u001b[39;49m\u001b[38;5;241;43m.\u001b[39;49m\u001b[43m_func\u001b[49m\u001b[43m(\u001b[49m\u001b[38;5;28;43mself\u001b[39;49m\u001b[38;5;241;43m.\u001b[39;49m\u001b[43m_session\u001b[49m\u001b[43m,\u001b[49m\u001b[43m \u001b[49m\u001b[38;5;28;43mself\u001b[39;49m\u001b[38;5;241;43m.\u001b[39;49m\u001b[43m_server\u001b[49m\u001b[43m,\u001b[49m\u001b[43m \u001b[49m\u001b[43mconn\u001b[49m\u001b[43m,\u001b[49m\u001b[43m \u001b[49m\u001b[43mread_pref\u001b[49m\u001b[43m)\u001b[49m\n",
      "File \u001b[1;32m~\\miniconda3\\Lib\\site-packages\\pymongo\\synchronous\\aggregation.py:164\u001b[0m, in \u001b[0;36m_AggregationCommand.get_cursor\u001b[1;34m(self, session, server, conn, read_preference)\u001b[0m\n\u001b[0;32m    161\u001b[0m     write_concern \u001b[38;5;241m=\u001b[39m \u001b[38;5;28;01mNone\u001b[39;00m\n\u001b[0;32m    163\u001b[0m \u001b[38;5;66;03m# Run command.\u001b[39;00m\n\u001b[1;32m--> 164\u001b[0m result \u001b[38;5;241m=\u001b[39m \u001b[43mconn\u001b[49m\u001b[38;5;241;43m.\u001b[39;49m\u001b[43mcommand\u001b[49m\u001b[43m(\u001b[49m\n\u001b[0;32m    165\u001b[0m \u001b[43m    \u001b[49m\u001b[38;5;28;43mself\u001b[39;49m\u001b[38;5;241;43m.\u001b[39;49m\u001b[43m_database\u001b[49m\u001b[38;5;241;43m.\u001b[39;49m\u001b[43mname\u001b[49m\u001b[43m,\u001b[49m\n\u001b[0;32m    166\u001b[0m \u001b[43m    \u001b[49m\u001b[43mcmd\u001b[49m\u001b[43m,\u001b[49m\n\u001b[0;32m    167\u001b[0m \u001b[43m    \u001b[49m\u001b[43mread_preference\u001b[49m\u001b[43m,\u001b[49m\n\u001b[0;32m    168\u001b[0m \u001b[43m    \u001b[49m\u001b[38;5;28;43mself\u001b[39;49m\u001b[38;5;241;43m.\u001b[39;49m\u001b[43m_target\u001b[49m\u001b[38;5;241;43m.\u001b[39;49m\u001b[43mcodec_options\u001b[49m\u001b[43m,\u001b[49m\n\u001b[0;32m    169\u001b[0m \u001b[43m    \u001b[49m\u001b[43mparse_write_concern_error\u001b[49m\u001b[38;5;241;43m=\u001b[39;49m\u001b[38;5;28;43;01mTrue\u001b[39;49;00m\u001b[43m,\u001b[49m\n\u001b[0;32m    170\u001b[0m \u001b[43m    \u001b[49m\u001b[43mread_concern\u001b[49m\u001b[38;5;241;43m=\u001b[39;49m\u001b[43mread_concern\u001b[49m\u001b[43m,\u001b[49m\n\u001b[0;32m    171\u001b[0m \u001b[43m    \u001b[49m\u001b[43mwrite_concern\u001b[49m\u001b[38;5;241;43m=\u001b[39;49m\u001b[43mwrite_concern\u001b[49m\u001b[43m,\u001b[49m\n\u001b[0;32m    172\u001b[0m \u001b[43m    \u001b[49m\u001b[43mcollation\u001b[49m\u001b[38;5;241;43m=\u001b[39;49m\u001b[38;5;28;43mself\u001b[39;49m\u001b[38;5;241;43m.\u001b[39;49m\u001b[43m_collation\u001b[49m\u001b[43m,\u001b[49m\n\u001b[0;32m    173\u001b[0m \u001b[43m    \u001b[49m\u001b[43msession\u001b[49m\u001b[38;5;241;43m=\u001b[39;49m\u001b[43msession\u001b[49m\u001b[43m,\u001b[49m\n\u001b[0;32m    174\u001b[0m \u001b[43m    \u001b[49m\u001b[43mclient\u001b[49m\u001b[38;5;241;43m=\u001b[39;49m\u001b[38;5;28;43mself\u001b[39;49m\u001b[38;5;241;43m.\u001b[39;49m\u001b[43m_database\u001b[49m\u001b[38;5;241;43m.\u001b[39;49m\u001b[43mclient\u001b[49m\u001b[43m,\u001b[49m\n\u001b[0;32m    175\u001b[0m \u001b[43m    \u001b[49m\u001b[43muser_fields\u001b[49m\u001b[38;5;241;43m=\u001b[39;49m\u001b[38;5;28;43mself\u001b[39;49m\u001b[38;5;241;43m.\u001b[39;49m\u001b[43m_user_fields\u001b[49m\u001b[43m,\u001b[49m\n\u001b[0;32m    176\u001b[0m \u001b[43m\u001b[49m\u001b[43m)\u001b[49m\n\u001b[0;32m    178\u001b[0m \u001b[38;5;28;01mif\u001b[39;00m \u001b[38;5;28mself\u001b[39m\u001b[38;5;241m.\u001b[39m_result_processor:\n\u001b[0;32m    179\u001b[0m     \u001b[38;5;28mself\u001b[39m\u001b[38;5;241m.\u001b[39m_result_processor(result, conn)\n",
      "File \u001b[1;32m~\\miniconda3\\Lib\\site-packages\\pymongo\\synchronous\\helpers.py:45\u001b[0m, in \u001b[0;36m_handle_reauth.<locals>.inner\u001b[1;34m(*args, **kwargs)\u001b[0m\n\u001b[0;32m     42\u001b[0m \u001b[38;5;28;01mfrom\u001b[39;00m \u001b[38;5;21;01mpymongo\u001b[39;00m\u001b[38;5;21;01m.\u001b[39;00m\u001b[38;5;21;01msynchronous\u001b[39;00m\u001b[38;5;21;01m.\u001b[39;00m\u001b[38;5;21;01mpool\u001b[39;00m \u001b[38;5;28;01mimport\u001b[39;00m Connection\n\u001b[0;32m     44\u001b[0m \u001b[38;5;28;01mtry\u001b[39;00m:\n\u001b[1;32m---> 45\u001b[0m     \u001b[38;5;28;01mreturn\u001b[39;00m \u001b[43mfunc\u001b[49m\u001b[43m(\u001b[49m\u001b[38;5;241;43m*\u001b[39;49m\u001b[43margs\u001b[49m\u001b[43m,\u001b[49m\u001b[43m \u001b[49m\u001b[38;5;241;43m*\u001b[39;49m\u001b[38;5;241;43m*\u001b[39;49m\u001b[43mkwargs\u001b[49m\u001b[43m)\u001b[49m\n\u001b[0;32m     46\u001b[0m \u001b[38;5;28;01mexcept\u001b[39;00m OperationFailure \u001b[38;5;28;01mas\u001b[39;00m exc:\n\u001b[0;32m     47\u001b[0m     \u001b[38;5;28;01mif\u001b[39;00m no_reauth:\n",
      "File \u001b[1;32m~\\miniconda3\\Lib\\site-packages\\pymongo\\synchronous\\pool.py:538\u001b[0m, in \u001b[0;36mConnection.command\u001b[1;34m(self, dbname, spec, read_preference, codec_options, check, allowable_errors, read_concern, write_concern, parse_write_concern_error, collation, session, client, retryable_write, publish_events, user_fields, exhaust_allowed)\u001b[0m\n\u001b[0;32m    536\u001b[0m     \u001b[38;5;28mself\u001b[39m\u001b[38;5;241m.\u001b[39m_raise_if_not_writable(unacknowledged)\n\u001b[0;32m    537\u001b[0m \u001b[38;5;28;01mtry\u001b[39;00m:\n\u001b[1;32m--> 538\u001b[0m     \u001b[38;5;28;01mreturn\u001b[39;00m \u001b[43mcommand\u001b[49m\u001b[43m(\u001b[49m\n\u001b[0;32m    539\u001b[0m \u001b[43m        \u001b[49m\u001b[38;5;28;43mself\u001b[39;49m\u001b[43m,\u001b[49m\n\u001b[0;32m    540\u001b[0m \u001b[43m        \u001b[49m\u001b[43mdbname\u001b[49m\u001b[43m,\u001b[49m\n\u001b[0;32m    541\u001b[0m \u001b[43m        \u001b[49m\u001b[43mspec\u001b[49m\u001b[43m,\u001b[49m\n\u001b[0;32m    542\u001b[0m \u001b[43m        \u001b[49m\u001b[38;5;28;43mself\u001b[39;49m\u001b[38;5;241;43m.\u001b[39;49m\u001b[43mis_mongos\u001b[49m\u001b[43m,\u001b[49m\n\u001b[0;32m    543\u001b[0m \u001b[43m        \u001b[49m\u001b[43mread_preference\u001b[49m\u001b[43m,\u001b[49m\n\u001b[0;32m    544\u001b[0m \u001b[43m        \u001b[49m\u001b[43mcodec_options\u001b[49m\u001b[43m,\u001b[49m\n\u001b[0;32m    545\u001b[0m \u001b[43m        \u001b[49m\u001b[43msession\u001b[49m\u001b[43m,\u001b[49m\n\u001b[0;32m    546\u001b[0m \u001b[43m        \u001b[49m\u001b[43mclient\u001b[49m\u001b[43m,\u001b[49m\n\u001b[0;32m    547\u001b[0m \u001b[43m        \u001b[49m\u001b[43mcheck\u001b[49m\u001b[43m,\u001b[49m\n\u001b[0;32m    548\u001b[0m \u001b[43m        \u001b[49m\u001b[43mallowable_errors\u001b[49m\u001b[43m,\u001b[49m\n\u001b[0;32m    549\u001b[0m \u001b[43m        \u001b[49m\u001b[38;5;28;43mself\u001b[39;49m\u001b[38;5;241;43m.\u001b[39;49m\u001b[43maddress\u001b[49m\u001b[43m,\u001b[49m\n\u001b[0;32m    550\u001b[0m \u001b[43m        \u001b[49m\u001b[43mlisteners\u001b[49m\u001b[43m,\u001b[49m\n\u001b[0;32m    551\u001b[0m \u001b[43m        \u001b[49m\u001b[38;5;28;43mself\u001b[39;49m\u001b[38;5;241;43m.\u001b[39;49m\u001b[43mmax_bson_size\u001b[49m\u001b[43m,\u001b[49m\n\u001b[0;32m    552\u001b[0m \u001b[43m        \u001b[49m\u001b[43mread_concern\u001b[49m\u001b[43m,\u001b[49m\n\u001b[0;32m    553\u001b[0m \u001b[43m        \u001b[49m\u001b[43mparse_write_concern_error\u001b[49m\u001b[38;5;241;43m=\u001b[39;49m\u001b[43mparse_write_concern_error\u001b[49m\u001b[43m,\u001b[49m\n\u001b[0;32m    554\u001b[0m \u001b[43m        \u001b[49m\u001b[43mcollation\u001b[49m\u001b[38;5;241;43m=\u001b[39;49m\u001b[43mcollation\u001b[49m\u001b[43m,\u001b[49m\n\u001b[0;32m    555\u001b[0m \u001b[43m        \u001b[49m\u001b[43mcompression_ctx\u001b[49m\u001b[38;5;241;43m=\u001b[39;49m\u001b[38;5;28;43mself\u001b[39;49m\u001b[38;5;241;43m.\u001b[39;49m\u001b[43mcompression_context\u001b[49m\u001b[43m,\u001b[49m\n\u001b[0;32m    556\u001b[0m \u001b[43m        \u001b[49m\u001b[43muse_op_msg\u001b[49m\u001b[38;5;241;43m=\u001b[39;49m\u001b[38;5;28;43mself\u001b[39;49m\u001b[38;5;241;43m.\u001b[39;49m\u001b[43mop_msg_enabled\u001b[49m\u001b[43m,\u001b[49m\n\u001b[0;32m    557\u001b[0m \u001b[43m        \u001b[49m\u001b[43munacknowledged\u001b[49m\u001b[38;5;241;43m=\u001b[39;49m\u001b[43munacknowledged\u001b[49m\u001b[43m,\u001b[49m\n\u001b[0;32m    558\u001b[0m \u001b[43m        \u001b[49m\u001b[43muser_fields\u001b[49m\u001b[38;5;241;43m=\u001b[39;49m\u001b[43muser_fields\u001b[49m\u001b[43m,\u001b[49m\n\u001b[0;32m    559\u001b[0m \u001b[43m        \u001b[49m\u001b[43mexhaust_allowed\u001b[49m\u001b[38;5;241;43m=\u001b[39;49m\u001b[43mexhaust_allowed\u001b[49m\u001b[43m,\u001b[49m\n\u001b[0;32m    560\u001b[0m \u001b[43m        \u001b[49m\u001b[43mwrite_concern\u001b[49m\u001b[38;5;241;43m=\u001b[39;49m\u001b[43mwrite_concern\u001b[49m\u001b[43m,\u001b[49m\n\u001b[0;32m    561\u001b[0m \u001b[43m    \u001b[49m\u001b[43m)\u001b[49m\n\u001b[0;32m    562\u001b[0m \u001b[38;5;28;01mexcept\u001b[39;00m (OperationFailure, NotPrimaryError):\n\u001b[0;32m    563\u001b[0m     \u001b[38;5;28;01mraise\u001b[39;00m\n",
      "File \u001b[1;32m~\\miniconda3\\Lib\\site-packages\\pymongo\\synchronous\\network.py:218\u001b[0m, in \u001b[0;36mcommand\u001b[1;34m(conn, dbname, spec, is_mongos, read_preference, codec_options, session, client, check, allowable_errors, address, listeners, max_bson_size, read_concern, parse_write_concern_error, collation, compression_ctx, use_op_msg, unacknowledged, user_fields, exhaust_allowed, write_concern)\u001b[0m\n\u001b[0;32m    216\u001b[0m             client\u001b[38;5;241m.\u001b[39m_process_response(response_doc, session)\n\u001b[0;32m    217\u001b[0m         \u001b[38;5;28;01mif\u001b[39;00m check:\n\u001b[1;32m--> 218\u001b[0m             \u001b[43mhelpers_shared\u001b[49m\u001b[38;5;241;43m.\u001b[39;49m\u001b[43m_check_command_response\u001b[49m\u001b[43m(\u001b[49m\n\u001b[0;32m    219\u001b[0m \u001b[43m                \u001b[49m\u001b[43mresponse_doc\u001b[49m\u001b[43m,\u001b[49m\n\u001b[0;32m    220\u001b[0m \u001b[43m                \u001b[49m\u001b[43mconn\u001b[49m\u001b[38;5;241;43m.\u001b[39;49m\u001b[43mmax_wire_version\u001b[49m\u001b[43m,\u001b[49m\n\u001b[0;32m    221\u001b[0m \u001b[43m                \u001b[49m\u001b[43mallowable_errors\u001b[49m\u001b[43m,\u001b[49m\n\u001b[0;32m    222\u001b[0m \u001b[43m                \u001b[49m\u001b[43mparse_write_concern_error\u001b[49m\u001b[38;5;241;43m=\u001b[39;49m\u001b[43mparse_write_concern_error\u001b[49m\u001b[43m,\u001b[49m\n\u001b[0;32m    223\u001b[0m \u001b[43m            \u001b[49m\u001b[43m)\u001b[49m\n\u001b[0;32m    224\u001b[0m \u001b[38;5;28;01mexcept\u001b[39;00m \u001b[38;5;167;01mException\u001b[39;00m \u001b[38;5;28;01mas\u001b[39;00m exc:\n\u001b[0;32m    225\u001b[0m     duration \u001b[38;5;241m=\u001b[39m datetime\u001b[38;5;241m.\u001b[39mdatetime\u001b[38;5;241m.\u001b[39mnow() \u001b[38;5;241m-\u001b[39m start\n",
      "File \u001b[1;32m~\\miniconda3\\Lib\\site-packages\\pymongo\\helpers_shared.py:247\u001b[0m, in \u001b[0;36m_check_command_response\u001b[1;34m(response, max_wire_version, allowable_errors, parse_write_concern_error)\u001b[0m\n\u001b[0;32m    244\u001b[0m \u001b[38;5;28;01melif\u001b[39;00m code \u001b[38;5;241m==\u001b[39m \u001b[38;5;241m43\u001b[39m:\n\u001b[0;32m    245\u001b[0m     \u001b[38;5;28;01mraise\u001b[39;00m CursorNotFound(errmsg, code, response, max_wire_version)\n\u001b[1;32m--> 247\u001b[0m \u001b[38;5;28;01mraise\u001b[39;00m OperationFailure(errmsg, code, response, max_wire_version)\n",
      "\u001b[1;31mOperationFailure\u001b[0m: PlanExecutor error during aggregation :: caused by :: Exceeded memory limit for $group, but didn't allow external sort. Pass allowDiskUse:true to opt in., full error: {'ok': 0.0, 'errmsg': \"PlanExecutor error during aggregation :: caused by :: Exceeded memory limit for $group, but didn't allow external sort. Pass allowDiskUse:true to opt in.\", 'code': 292, 'codeName': 'QueryExceededMemoryLimitNoDiskUseAllowed'}"
     ]
    }
   ],
   "source": [
    "group = {\"$group\": {\"_id\": {\"user_id\": \"$user_id\", \"order_dow\": \"$order_dow\"}, \n",
    "                    \"orders\": {\"$push\": \"$products.product_name\"}}}\n",
    "\n",
    "# $push is used to append to a list\n",
    "\n",
    "cursor = cll.aggregate([group]) # this query gives a memory error\n",
    "\n",
    "next(cursor)"
   ]
  },
  {
   "cell_type": "code",
   "execution_count": 47,
   "id": "3e856b65",
   "metadata": {},
   "outputs": [
    {
     "data": {
      "text/plain": [
       "{'_id': {'user_id': 1, 'order_dow': 1},\n",
       " 'orders': [['Soda',\n",
       "   'Pistachios',\n",
       "   'Original Beef Jerky',\n",
       "   'Cinnamon Toast Crunch',\n",
       "   'Organic String Cheese'],\n",
       "  ['Soda',\n",
       "   'Pistachios',\n",
       "   'Original Beef Jerky',\n",
       "   'Organic String Cheese',\n",
       "   'Zero Calorie Cola',\n",
       "   'Organic Half & Half'],\n",
       "  ['Soda',\n",
       "   'Pistachios',\n",
       "   'Original Beef Jerky',\n",
       "   'Organic String Cheese',\n",
       "   'Zero Calorie Cola',\n",
       "   'Organic Half & Half']]}"
      ]
     },
     "execution_count": 47,
     "metadata": {},
     "output_type": "execute_result"
    }
   ],
   "source": [
    "group = {\"$group\": {\"_id\": {\"user_id\": \"$user_id\", \"order_dow\": \"$order_dow\"}, \n",
    "                    \"orders\": {\"$push\": \"$products.product_name\"}}}\n",
    "\n",
    "# $push is used to append to a list\n",
    "\n",
    "cursor = cll.aggregate([group], allowDiskUse = True)\n",
    "\n",
    "# allowDiskUse solves the problem by storing large output on disk\n",
    "\n",
    "next(cursor)"
   ]
  },
  {
   "cell_type": "code",
   "execution_count": 48,
   "id": "461a5794",
   "metadata": {},
   "outputs": [],
   "source": [
    "records = [\n",
    "    {'user_id':record['_id']['user_id'], \n",
    "     'order_dow':record['_id']['order_dow'] if 'order_dow' in record['_id'] else 0, \n",
    "     'n_orders':len(record['orders'])} \n",
    "for record in cursor]"
   ]
  },
  {
   "cell_type": "code",
   "execution_count": 49,
   "id": "b5e2f38b",
   "metadata": {},
   "outputs": [
    {
     "data": {
      "text/plain": [
       "[{'user_id': 1, 'order_dow': 2, 'n_orders': 2},\n",
       " {'user_id': 1, 'order_dow': 3, 'n_orders': 2},\n",
       " {'user_id': 1, 'order_dow': 4, 'n_orders': 4},\n",
       " {'user_id': 2, 'order_dow': 1, 'n_orders': 6},\n",
       " {'user_id': 2, 'order_dow': 2, 'n_orders': 5},\n",
       " {'user_id': 2, 'order_dow': 3, 'n_orders': 2},\n",
       " {'user_id': 2, 'order_dow': 4, 'n_orders': 1},\n",
       " {'user_id': 2, 'order_dow': 5, 'n_orders': 1},\n",
       " {'user_id': 3, 'order_dow': 0, 'n_orders': 6},\n",
       " {'user_id': 3, 'order_dow': 1, 'n_orders': 2},\n",
       " {'user_id': 3, 'order_dow': 2, 'n_orders': 1},\n",
       " {'user_id': 3, 'order_dow': 3, 'n_orders': 3},\n",
       " {'user_id': 3, 'order_dow': 5, 'n_orders': 0},\n",
       " {'user_id': 4, 'order_dow': 3, 'n_orders': 0},\n",
       " {'user_id': 4, 'order_dow': 4, 'n_orders': 2},\n",
       " {'user_id': 4, 'order_dow': 5, 'n_orders': 2},\n",
       " {'user_id': 4, 'order_dow': 6, 'n_orders': 1},\n",
       " {'user_id': 5, 'order_dow': 0, 'n_orders': 2},\n",
       " {'user_id': 5, 'order_dow': 1, 'n_orders': 1},\n",
       " {'user_id': 5, 'order_dow': 3, 'n_orders': 2},\n",
       " {'user_id': 6, 'order_dow': 2, 'n_orders': 1},\n",
       " {'user_id': 6, 'order_dow': 3, 'n_orders': 0},\n",
       " {'user_id': 6, 'order_dow': 4, 'n_orders': 1},\n",
       " {'user_id': 6, 'order_dow': 5, 'n_orders': 1},\n",
       " {'user_id': 7, 'order_dow': 0, 'n_orders': 6},\n",
       " {'user_id': 7, 'order_dow': 1, 'n_orders': 5},\n",
       " {'user_id': 7, 'order_dow': 2, 'n_orders': 3},\n",
       " {'user_id': 7, 'order_dow': 3, 'n_orders': 4},\n",
       " {'user_id': 7, 'order_dow': 5, 'n_orders': 2},\n",
       " {'user_id': 7, 'order_dow': 6, 'n_orders': 1},\n",
       " {'user_id': 8, 'order_dow': 1, 'n_orders': 2},\n",
       " {'user_id': 8, 'order_dow': 5, 'n_orders': 1},\n",
       " {'user_id': 8, 'order_dow': 6, 'n_orders': 1},\n",
       " {'user_id': 9, 'order_dow': 0, 'n_orders': 1},\n",
       " {'user_id': 9, 'order_dow': 1, 'n_orders': 1},\n",
       " {'user_id': 9, 'order_dow': 5, 'n_orders': 1},\n",
       " {'user_id': 9, 'order_dow': 6, 'n_orders': 1},\n",
       " {'user_id': 10, 'order_dow': 0, 'n_orders': 1},\n",
       " {'user_id': 10, 'order_dow': 2, 'n_orders': 1},\n",
       " {'user_id': 10, 'order_dow': 3, 'n_orders': 2},\n",
       " {'user_id': 10, 'order_dow': 5, 'n_orders': 2},\n",
       " {'user_id': 11, 'order_dow': 0, 'n_orders': 1},\n",
       " {'user_id': 11, 'order_dow': 5, 'n_orders': 6},\n",
       " {'user_id': 11, 'order_dow': 6, 'n_orders': 0},\n",
       " {'user_id': 12, 'order_dow': 1, 'n_orders': 2},\n",
       " {'user_id': 12, 'order_dow': 3, 'n_orders': 1},\n",
       " {'user_id': 12, 'order_dow': 5, 'n_orders': 2},\n",
       " {'user_id': 13, 'order_dow': 0, 'n_orders': 6},\n",
       " {'user_id': 13, 'order_dow': 1, 'n_orders': 1},\n",
       " {'user_id': 13, 'order_dow': 6, 'n_orders': 6},\n",
       " {'user_id': 14, 'order_dow': 0, 'n_orders': 1},\n",
       " {'user_id': 14, 'order_dow': 1, 'n_orders': 2},\n",
       " {'user_id': 14, 'order_dow': 2, 'n_orders': 2},\n",
       " {'user_id': 14, 'order_dow': 4, 'n_orders': 2},\n",
       " {'user_id': 14, 'order_dow': 5, 'n_orders': 6},\n",
       " {'user_id': 14, 'order_dow': 6, 'n_orders': 1},\n",
       " {'user_id': 15, 'order_dow': 1, 'n_orders': 10},\n",
       " {'user_id': 15, 'order_dow': 2, 'n_orders': 6},\n",
       " {'user_id': 15, 'order_dow': 4, 'n_orders': 1},\n",
       " {'user_id': 15, 'order_dow': 5, 'n_orders': 3},\n",
       " {'user_id': 15, 'order_dow': 6, 'n_orders': 2},\n",
       " {'user_id': 16, 'order_dow': 0, 'n_orders': 1},\n",
       " {'user_id': 16, 'order_dow': 1, 'n_orders': 2},\n",
       " {'user_id': 16, 'order_dow': 2, 'n_orders': 2},\n",
       " {'user_id': 16, 'order_dow': 6, 'n_orders': 1},\n",
       " {'user_id': 17, 'order_dow': 0, 'n_orders': 3},\n",
       " {'user_id': 17, 'order_dow': 1, 'n_orders': 8},\n",
       " {'user_id': 17, 'order_dow': 2, 'n_orders': 5},\n",
       " {'user_id': 17, 'order_dow': 3, 'n_orders': 6},\n",
       " {'user_id': 17, 'order_dow': 4, 'n_orders': 5},\n",
       " {'user_id': 17, 'order_dow': 5, 'n_orders': 7},\n",
       " {'user_id': 17, 'order_dow': 6, 'n_orders': 7},\n",
       " {'user_id': 18, 'order_dow': 0, 'n_orders': 2},\n",
       " {'user_id': 18, 'order_dow': 1, 'n_orders': 1},\n",
       " {'user_id': 18, 'order_dow': 2, 'n_orders': 1},\n",
       " {'user_id': 18, 'order_dow': 6, 'n_orders': 3},\n",
       " {'user_id': 19, 'order_dow': 0, 'n_orders': 1},\n",
       " {'user_id': 19, 'order_dow': 4, 'n_orders': 2},\n",
       " {'user_id': 19, 'order_dow': 5, 'n_orders': 4},\n",
       " {'user_id': 19, 'order_dow': 6, 'n_orders': 2},\n",
       " {'user_id': 20, 'order_dow': 1, 'n_orders': 1},\n",
       " {'user_id': 20, 'order_dow': 2, 'n_orders': 2},\n",
       " {'user_id': 20, 'order_dow': 3, 'n_orders': 1},\n",
       " {'user_id': 21, 'order_dow': 1, 'n_orders': 18},\n",
       " {'user_id': 21, 'order_dow': 2, 'n_orders': 5},\n",
       " {'user_id': 21, 'order_dow': 3, 'n_orders': 5},\n",
       " {'user_id': 21, 'order_dow': 4, 'n_orders': 1},\n",
       " {'user_id': 21, 'order_dow': 5, 'n_orders': 5},\n",
       " {'user_id': 22, 'order_dow': 0, 'n_orders': 2},\n",
       " {'user_id': 22, 'order_dow': 1, 'n_orders': 2},\n",
       " {'user_id': 22, 'order_dow': 3, 'n_orders': 4},\n",
       " {'user_id': 22, 'order_dow': 4, 'n_orders': 1},\n",
       " {'user_id': 22, 'order_dow': 5, 'n_orders': 5},\n",
       " {'user_id': 22, 'order_dow': 6, 'n_orders': 1},\n",
       " {'user_id': 23, 'order_dow': 0, 'n_orders': 1},\n",
       " {'user_id': 23, 'order_dow': 1, 'n_orders': 1},\n",
       " {'user_id': 23, 'order_dow': 3, 'n_orders': 1},\n",
       " {'user_id': 23, 'order_dow': 5, 'n_orders': 2},\n",
       " {'user_id': 24, 'order_dow': 0, 'n_orders': 7},\n",
       " {'user_id': 24, 'order_dow': 1, 'n_orders': 2},\n",
       " {'user_id': 24, 'order_dow': 2, 'n_orders': 1},\n",
       " {'user_id': 24, 'order_dow': 3, 'n_orders': 2},\n",
       " {'user_id': 24, 'order_dow': 4, 'n_orders': 1},\n",
       " {'user_id': 24, 'order_dow': 5, 'n_orders': 2},\n",
       " {'user_id': 24, 'order_dow': 6, 'n_orders': 4},\n",
       " {'user_id': 25, 'order_dow': 0, 'n_orders': 0},\n",
       " {'user_id': 25, 'order_dow': 1, 'n_orders': 2},\n",
       " {'user_id': 25, 'order_dow': 5, 'n_orders': 1},\n",
       " {'user_id': 26, 'order_dow': 1, 'n_orders': 1},\n",
       " {'user_id': 26, 'order_dow': 2, 'n_orders': 2},\n",
       " {'user_id': 26, 'order_dow': 3, 'n_orders': 3},\n",
       " {'user_id': 26, 'order_dow': 4, 'n_orders': 3},\n",
       " {'user_id': 26, 'order_dow': 5, 'n_orders': 3},\n",
       " {'user_id': 27, 'order_dow': 1, 'n_orders': 17},\n",
       " {'user_id': 27, 'order_dow': 2, 'n_orders': 21},\n",
       " {'user_id': 27, 'order_dow': 3, 'n_orders': 17},\n",
       " {'user_id': 27, 'order_dow': 4, 'n_orders': 12},\n",
       " {'user_id': 27, 'order_dow': 5, 'n_orders': 15},\n",
       " {'user_id': 28, 'order_dow': 0, 'n_orders': 7},\n",
       " {'user_id': 28, 'order_dow': 1, 'n_orders': 5},\n",
       " {'user_id': 28, 'order_dow': 2, 'n_orders': 5},\n",
       " {'user_id': 28, 'order_dow': 3, 'n_orders': 2},\n",
       " {'user_id': 28, 'order_dow': 4, 'n_orders': 1},\n",
       " {'user_id': 28, 'order_dow': 5, 'n_orders': 4},\n",
       " {'user_id': 29, 'order_dow': 1, 'n_orders': 4},\n",
       " {'user_id': 29, 'order_dow': 2, 'n_orders': 2},\n",
       " {'user_id': 29, 'order_dow': 3, 'n_orders': 1},\n",
       " {'user_id': 29, 'order_dow': 4, 'n_orders': 3},\n",
       " {'user_id': 29, 'order_dow': 5, 'n_orders': 7},\n",
       " {'user_id': 29, 'order_dow': 6, 'n_orders': 2},\n",
       " {'user_id': 30, 'order_dow': 1, 'n_orders': 6},\n",
       " {'user_id': 30, 'order_dow': 2, 'n_orders': 3},\n",
       " {'user_id': 31, 'order_dow': 0, 'n_orders': 5},\n",
       " {'user_id': 31, 'order_dow': 1, 'n_orders': 2},\n",
       " {'user_id': 31, 'order_dow': 2, 'n_orders': 3},\n",
       " {'user_id': 31, 'order_dow': 3, 'n_orders': 6},\n",
       " {'user_id': 31, 'order_dow': 4, 'n_orders': 2},\n",
       " {'user_id': 31, 'order_dow': 5, 'n_orders': 2},\n",
       " {'user_id': 32, 'order_dow': 1, 'n_orders': 1},\n",
       " {'user_id': 32, 'order_dow': 2, 'n_orders': 1},\n",
       " {'user_id': 32, 'order_dow': 3, 'n_orders': 3},\n",
       " {'user_id': 33, 'order_dow': 1, 'n_orders': 1},\n",
       " {'user_id': 33, 'order_dow': 2, 'n_orders': 1},\n",
       " {'user_id': 33, 'order_dow': 3, 'n_orders': 1},\n",
       " {'user_id': 33, 'order_dow': 6, 'n_orders': 0},\n",
       " {'user_id': 34, 'order_dow': 0, 'n_orders': 2},\n",
       " {'user_id': 34, 'order_dow': 4, 'n_orders': 4},\n",
       " {'user_id': 35, 'order_dow': 0, 'n_orders': 1},\n",
       " {'user_id': 35, 'order_dow': 3, 'n_orders': 2},\n",
       " {'user_id': 35, 'order_dow': 4, 'n_orders': 2},\n",
       " {'user_id': 35, 'order_dow': 5, 'n_orders': 2},\n",
       " {'user_id': 35, 'order_dow': 6, 'n_orders': 2},\n",
       " {'user_id': 36, 'order_dow': 0, 'n_orders': 9},\n",
       " {'user_id': 36, 'order_dow': 1, 'n_orders': 2},\n",
       " {'user_id': 36, 'order_dow': 2, 'n_orders': 1},\n",
       " {'user_id': 36, 'order_dow': 3, 'n_orders': 7},\n",
       " {'user_id': 36, 'order_dow': 4, 'n_orders': 8},\n",
       " {'user_id': 36, 'order_dow': 5, 'n_orders': 6},\n",
       " {'user_id': 36, 'order_dow': 6, 'n_orders': 4},\n",
       " {'user_id': 37, 'order_dow': 0, 'n_orders': 3},\n",
       " {'user_id': 37, 'order_dow': 1, 'n_orders': 3},\n",
       " {'user_id': 37, 'order_dow': 2, 'n_orders': 3},\n",
       " {'user_id': 37, 'order_dow': 3, 'n_orders': 3},\n",
       " {'user_id': 37, 'order_dow': 4, 'n_orders': 2},\n",
       " {'user_id': 37, 'order_dow': 5, 'n_orders': 5},\n",
       " {'user_id': 37, 'order_dow': 6, 'n_orders': 5},\n",
       " {'user_id': 38, 'order_dow': 0, 'n_orders': 5},\n",
       " {'user_id': 38, 'order_dow': 1, 'n_orders': 1},\n",
       " {'user_id': 38, 'order_dow': 4, 'n_orders': 1},\n",
       " {'user_id': 38, 'order_dow': 5, 'n_orders': 1},\n",
       " {'user_id': 38, 'order_dow': 6, 'n_orders': 5},\n",
       " {'user_id': 39, 'order_dow': 0, 'n_orders': 3},\n",
       " {'user_id': 39, 'order_dow': 6, 'n_orders': 4},\n",
       " {'user_id': 40, 'order_dow': 0, 'n_orders': 6},\n",
       " {'user_id': 40, 'order_dow': 1, 'n_orders': 1},\n",
       " {'user_id': 40, 'order_dow': 6, 'n_orders': 2},\n",
       " {'user_id': 41, 'order_dow': 0, 'n_orders': 3},\n",
       " {'user_id': 41, 'order_dow': 1, 'n_orders': 1},\n",
       " {'user_id': 41, 'order_dow': 2, 'n_orders': 1},\n",
       " {'user_id': 41, 'order_dow': 6, 'n_orders': 1},\n",
       " {'user_id': 42, 'order_dow': 0, 'n_orders': 4},\n",
       " {'user_id': 42, 'order_dow': 1, 'n_orders': 4},\n",
       " {'user_id': 42, 'order_dow': 2, 'n_orders': 3},\n",
       " {'user_id': 42, 'order_dow': 3, 'n_orders': 3},\n",
       " {'user_id': 42, 'order_dow': 4, 'n_orders': 1},\n",
       " {'user_id': 42, 'order_dow': 5, 'n_orders': 2},\n",
       " {'user_id': 43, 'order_dow': 0, 'n_orders': 3},\n",
       " {'user_id': 43, 'order_dow': 1, 'n_orders': 2},\n",
       " {'user_id': 43, 'order_dow': 3, 'n_orders': 1},\n",
       " {'user_id': 43, 'order_dow': 4, 'n_orders': 4},\n",
       " {'user_id': 43, 'order_dow': 5, 'n_orders': 2},\n",
       " {'user_id': 44, 'order_dow': 0, 'n_orders': 3},\n",
       " {'user_id': 44, 'order_dow': 1, 'n_orders': 1},\n",
       " {'user_id': 45, 'order_dow': 1, 'n_orders': 1},\n",
       " {'user_id': 45, 'order_dow': 2, 'n_orders': 1},\n",
       " {'user_id': 45, 'order_dow': 3, 'n_orders': 1},\n",
       " {'user_id': 45, 'order_dow': 5, 'n_orders': 0},\n",
       " {'user_id': 45, 'order_dow': 6, 'n_orders': 1},\n",
       " {'user_id': 46, 'order_dow': 0, 'n_orders': 9},\n",
       " {'user_id': 46, 'order_dow': 1, 'n_orders': 9},\n",
       " {'user_id': 46, 'order_dow': 4, 'n_orders': 1},\n",
       " {'user_id': 46, 'order_dow': 6, 'n_orders': 1},\n",
       " {'user_id': 47, 'order_dow': 2, 'n_orders': 2},\n",
       " {'user_id': 47, 'order_dow': 4, 'n_orders': 2},\n",
       " {'user_id': 47, 'order_dow': 5, 'n_orders': 1},\n",
       " {'user_id': 47, 'order_dow': 6, 'n_orders': 1},\n",
       " {'user_id': 48, 'order_dow': 5, 'n_orders': 6},\n",
       " {'user_id': 48, 'order_dow': 6, 'n_orders': 5},\n",
       " {'user_id': 49, 'order_dow': 1, 'n_orders': 2},\n",
       " {'user_id': 49, 'order_dow': 2, 'n_orders': 3},\n",
       " {'user_id': 49, 'order_dow': 3, 'n_orders': 1},\n",
       " {'user_id': 49, 'order_dow': 4, 'n_orders': 1},\n",
       " {'user_id': 49, 'order_dow': 5, 'n_orders': 1},\n",
       " {'user_id': 49, 'order_dow': 6, 'n_orders': 1},\n",
       " {'user_id': 50, 'order_dow': 0, 'n_orders': 5},\n",
       " {'user_id': 50, 'order_dow': 1, 'n_orders': 15},\n",
       " {'user_id': 50, 'order_dow': 2, 'n_orders': 14},\n",
       " {'user_id': 50, 'order_dow': 3, 'n_orders': 13},\n",
       " {'user_id': 50, 'order_dow': 4, 'n_orders': 6},\n",
       " {'user_id': 50, 'order_dow': 5, 'n_orders': 6},\n",
       " {'user_id': 50, 'order_dow': 6, 'n_orders': 9},\n",
       " {'user_id': 51, 'order_dow': 0, 'n_orders': 0},\n",
       " {'user_id': 51, 'order_dow': 2, 'n_orders': 1},\n",
       " {'user_id': 51, 'order_dow': 3, 'n_orders': 1},\n",
       " {'user_id': 51, 'order_dow': 5, 'n_orders': 1},\n",
       " {'user_id': 52, 'order_dow': 1, 'n_orders': 15},\n",
       " {'user_id': 52, 'order_dow': 2, 'n_orders': 8},\n",
       " {'user_id': 52, 'order_dow': 3, 'n_orders': 2},\n",
       " {'user_id': 52, 'order_dow': 4, 'n_orders': 1},\n",
       " {'user_id': 52, 'order_dow': 5, 'n_orders': 2},\n",
       " {'user_id': 53, 'order_dow': 1, 'n_orders': 1},\n",
       " {'user_id': 53, 'order_dow': 2, 'n_orders': 1},\n",
       " {'user_id': 53, 'order_dow': 3, 'n_orders': 1},\n",
       " {'user_id': 53, 'order_dow': 5, 'n_orders': 1},\n",
       " {'user_id': 54, 'order_dow': 0, 'n_orders': 8},\n",
       " {'user_id': 54, 'order_dow': 1, 'n_orders': 12},\n",
       " {'user_id': 54, 'order_dow': 2, 'n_orders': 6},\n",
       " {'user_id': 54, 'order_dow': 3, 'n_orders': 7},\n",
       " {'user_id': 54, 'order_dow': 4, 'n_orders': 19},\n",
       " {'user_id': 54, 'order_dow': 5, 'n_orders': 7},\n",
       " {'user_id': 54, 'order_dow': 6, 'n_orders': 18},\n",
       " {'user_id': 55, 'order_dow': 0, 'n_orders': 1},\n",
       " {'user_id': 55, 'order_dow': 1, 'n_orders': 2},\n",
       " {'user_id': 55, 'order_dow': 2, 'n_orders': 5},\n",
       " {'user_id': 56, 'order_dow': 0, 'n_orders': 2},\n",
       " {'user_id': 56, 'order_dow': 1, 'n_orders': 7},\n",
       " {'user_id': 56, 'order_dow': 2, 'n_orders': 3},\n",
       " {'user_id': 56, 'order_dow': 4, 'n_orders': 1},\n",
       " {'user_id': 57, 'order_dow': 0, 'n_orders': 0},\n",
       " {'user_id': 57, 'order_dow': 2, 'n_orders': 2},\n",
       " {'user_id': 57, 'order_dow': 3, 'n_orders': 3},\n",
       " {'user_id': 57, 'order_dow': 4, 'n_orders': 3},\n",
       " {'user_id': 57, 'order_dow': 5, 'n_orders': 2},\n",
       " {'user_id': 57, 'order_dow': 6, 'n_orders': 4},\n",
       " {'user_id': 58, 'order_dow': 0, 'n_orders': 6},\n",
       " {'user_id': 58, 'order_dow': 2, 'n_orders': 1},\n",
       " {'user_id': 58, 'order_dow': 3, 'n_orders': 2},\n",
       " {'user_id': 58, 'order_dow': 4, 'n_orders': 3},\n",
       " {'user_id': 58, 'order_dow': 5, 'n_orders': 2},\n",
       " {'user_id': 58, 'order_dow': 6, 'n_orders': 1},\n",
       " {'user_id': 59, 'order_dow': 0, 'n_orders': 3},\n",
       " {'user_id': 59, 'order_dow': 1, 'n_orders': 1},\n",
       " {'user_id': 59, 'order_dow': 2, 'n_orders': 3},\n",
       " {'user_id': 59, 'order_dow': 3, 'n_orders': 2},\n",
       " {'user_id': 59, 'order_dow': 4, 'n_orders': 1},\n",
       " {'user_id': 59, 'order_dow': 5, 'n_orders': 1},\n",
       " {'user_id': 60, 'order_dow': 0, 'n_orders': 1},\n",
       " {'user_id': 60, 'order_dow': 1, 'n_orders': 1},\n",
       " {'user_id': 60, 'order_dow': 2, 'n_orders': 3},\n",
       " {'user_id': 60, 'order_dow': 4, 'n_orders': 0},\n",
       " {'user_id': 60, 'order_dow': 5, 'n_orders': 3},\n",
       " {'user_id': 61, 'order_dow': 1, 'n_orders': 1},\n",
       " {'user_id': 61, 'order_dow': 2, 'n_orders': 1},\n",
       " {'user_id': 61, 'order_dow': 4, 'n_orders': 0},\n",
       " {'user_id': 61, 'order_dow': 5, 'n_orders': 2},\n",
       " {'user_id': 62, 'order_dow': 0, 'n_orders': 1},\n",
       " {'user_id': 62, 'order_dow': 1, 'n_orders': 3},\n",
       " {'user_id': 62, 'order_dow': 2, 'n_orders': 1},\n",
       " {'user_id': 62, 'order_dow': 4, 'n_orders': 5},\n",
       " {'user_id': 62, 'order_dow': 6, 'n_orders': 1},\n",
       " {'user_id': 63, 'order_dow': 0, 'n_orders': 6},\n",
       " {'user_id': 63, 'order_dow': 1, 'n_orders': 9},\n",
       " {'user_id': 63, 'order_dow': 2, 'n_orders': 4},\n",
       " {'user_id': 63, 'order_dow': 3, 'n_orders': 7},\n",
       " {'user_id': 63, 'order_dow': 4, 'n_orders': 2},\n",
       " {'user_id': 63, 'order_dow': 5, 'n_orders': 5},\n",
       " {'user_id': 63, 'order_dow': 6, 'n_orders': 7},\n",
       " {'user_id': 64, 'order_dow': 0, 'n_orders': 1},\n",
       " {'user_id': 64, 'order_dow': 1, 'n_orders': 2},\n",
       " {'user_id': 64, 'order_dow': 2, 'n_orders': 1},\n",
       " {'user_id': 64, 'order_dow': 3, 'n_orders': 1},\n",
       " {'user_id': 64, 'order_dow': 5, 'n_orders': 2},\n",
       " {'user_id': 64, 'order_dow': 6, 'n_orders': 4},\n",
       " {'user_id': 65, 'order_dow': 0, 'n_orders': 4},\n",
       " {'user_id': 65, 'order_dow': 1, 'n_orders': 3},\n",
       " {'user_id': 65, 'order_dow': 2, 'n_orders': 2},\n",
       " {'user_id': 65, 'order_dow': 4, 'n_orders': 3},\n",
       " {'user_id': 65, 'order_dow': 5, 'n_orders': 1},\n",
       " {'user_id': 65, 'order_dow': 6, 'n_orders': 2},\n",
       " {'user_id': 66, 'order_dow': 0, 'n_orders': 1},\n",
       " {'user_id': 66, 'order_dow': 1, 'n_orders': 1},\n",
       " {'user_id': 66, 'order_dow': 2, 'n_orders': 1},\n",
       " {'user_id': 66, 'order_dow': 3, 'n_orders': 2},\n",
       " {'user_id': 66, 'order_dow': 5, 'n_orders': 1},\n",
       " {'user_id': 66, 'order_dow': 6, 'n_orders': 1},\n",
       " {'user_id': 67, 'order_dow': 0, 'n_orders': 2},\n",
       " {'user_id': 67, 'order_dow': 1, 'n_orders': 10},\n",
       " {'user_id': 67, 'order_dow': 2, 'n_orders': 7},\n",
       " {'user_id': 67, 'order_dow': 3, 'n_orders': 4},\n",
       " {'user_id': 67, 'order_dow': 4, 'n_orders': 1},\n",
       " {'user_id': 67, 'order_dow': 5, 'n_orders': 1},\n",
       " {'user_id': 68, 'order_dow': 1, 'n_orders': 1},\n",
       " {'user_id': 68, 'order_dow': 2, 'n_orders': 0},\n",
       " {'user_id': 68, 'order_dow': 3, 'n_orders': 1},\n",
       " {'user_id': 68, 'order_dow': 4, 'n_orders': 1},\n",
       " {'user_id': 68, 'order_dow': 5, 'n_orders': 2},\n",
       " {'user_id': 68, 'order_dow': 6, 'n_orders': 1},\n",
       " {'user_id': 69, 'order_dow': 2, 'n_orders': 4},\n",
       " {'user_id': 69, 'order_dow': 3, 'n_orders': 1},\n",
       " {'user_id': 70, 'order_dow': 0, 'n_orders': 1},\n",
       " {'user_id': 70, 'order_dow': 1, 'n_orders': 1},\n",
       " {'user_id': 70, 'order_dow': 2, 'n_orders': 1},\n",
       " {'user_id': 70, 'order_dow': 3, 'n_orders': 2},\n",
       " {'user_id': 70, 'order_dow': 4, 'n_orders': 5},\n",
       " {'user_id': 70, 'order_dow': 5, 'n_orders': 1},\n",
       " {'user_id': 70, 'order_dow': 6, 'n_orders': 3},\n",
       " {'user_id': 71, 'order_dow': 0, 'n_orders': 3},\n",
       " {'user_id': 71, 'order_dow': 1, 'n_orders': 2},\n",
       " {'user_id': 71, 'order_dow': 2, 'n_orders': 3},\n",
       " {'user_id': 71, 'order_dow': 3, 'n_orders': 6},\n",
       " {'user_id': 71, 'order_dow': 4, 'n_orders': 3},\n",
       " {'user_id': 71, 'order_dow': 5, 'n_orders': 6},\n",
       " {'user_id': 71, 'order_dow': 6, 'n_orders': 1},\n",
       " {'user_id': 72, 'order_dow': 0, 'n_orders': 1},\n",
       " {'user_id': 72, 'order_dow': 1, 'n_orders': 1},\n",
       " {'user_id': 72, 'order_dow': 2, 'n_orders': 2},\n",
       " {'user_id': 72, 'order_dow': 4, 'n_orders': 2},\n",
       " {'user_id': 72, 'order_dow': 5, 'n_orders': 3},\n",
       " {'user_id': 72, 'order_dow': 6, 'n_orders': 4},\n",
       " {'user_id': 73, 'order_dow': 0, 'n_orders': 1},\n",
       " {'user_id': 73, 'order_dow': 1, 'n_orders': 1},\n",
       " {'user_id': 73, 'order_dow': 2, 'n_orders': 1},\n",
       " {'user_id': 73, 'order_dow': 3, 'n_orders': 3},\n",
       " {'user_id': 73, 'order_dow': 5, 'n_orders': 1},\n",
       " {'user_id': 73, 'order_dow': 6, 'n_orders': 0},\n",
       " {'user_id': 74, 'order_dow': 1, 'n_orders': 2},\n",
       " {'user_id': 74, 'order_dow': 3, 'n_orders': 1},\n",
       " {'user_id': 74, 'order_dow': 4, 'n_orders': 1},\n",
       " {'user_id': 74, 'order_dow': 5, 'n_orders': 2},\n",
       " {'user_id': 75, 'order_dow': 0, 'n_orders': 3},\n",
       " {'user_id': 75, 'order_dow': 1, 'n_orders': 5},\n",
       " {'user_id': 75, 'order_dow': 2, 'n_orders': 3},\n",
       " {'user_id': 75, 'order_dow': 3, 'n_orders': 2},\n",
       " {'user_id': 75, 'order_dow': 4, 'n_orders': 3},\n",
       " {'user_id': 75, 'order_dow': 5, 'n_orders': 3},\n",
       " {'user_id': 75, 'order_dow': 6, 'n_orders': 4},\n",
       " {'user_id': 76, 'order_dow': 1, 'n_orders': 2},\n",
       " {'user_id': 76, 'order_dow': 2, 'n_orders': 2},\n",
       " {'user_id': 76, 'order_dow': 3, 'n_orders': 2},\n",
       " {'user_id': 76, 'order_dow': 4, 'n_orders': 3},\n",
       " {'user_id': 76, 'order_dow': 5, 'n_orders': 1},\n",
       " {'user_id': 77, 'order_dow': 0, 'n_orders': 5},\n",
       " {'user_id': 77, 'order_dow': 1, 'n_orders': 3},\n",
       " {'user_id': 77, 'order_dow': 2, 'n_orders': 2},\n",
       " {'user_id': 77, 'order_dow': 6, 'n_orders': 2},\n",
       " {'user_id': 78, 'order_dow': 0, 'n_orders': 2},\n",
       " {'user_id': 78, 'order_dow': 1, 'n_orders': 1},\n",
       " {'user_id': 78, 'order_dow': 2, 'n_orders': 1},\n",
       " {'user_id': 78, 'order_dow': 6, 'n_orders': 3},\n",
       " {'user_id': 79, 'order_dow': 0, 'n_orders': 6},\n",
       " {'user_id': 79, 'order_dow': 1, 'n_orders': 2},\n",
       " {'user_id': 80, 'order_dow': 0, 'n_orders': 2},\n",
       " {'user_id': 80, 'order_dow': 1, 'n_orders': 3},\n",
       " {'user_id': 80, 'order_dow': 2, 'n_orders': 5},\n",
       " {'user_id': 80, 'order_dow': 3, 'n_orders': 1},\n",
       " {'user_id': 80, 'order_dow': 5, 'n_orders': 1},\n",
       " {'user_id': 80, 'order_dow': 6, 'n_orders': 1},\n",
       " {'user_id': 81, 'order_dow': 1, 'n_orders': 2},\n",
       " {'user_id': 81, 'order_dow': 2, 'n_orders': 2},\n",
       " {'user_id': 81, 'order_dow': 3, 'n_orders': 2},\n",
       " {'user_id': 81, 'order_dow': 4, 'n_orders': 1},\n",
       " {'user_id': 81, 'order_dow': 5, 'n_orders': 1},\n",
       " {'user_id': 82, 'order_dow': 0, 'n_orders': 3},\n",
       " {'user_id': 82, 'order_dow': 1, 'n_orders': 6},\n",
       " {'user_id': 82, 'order_dow': 2, 'n_orders': 3},\n",
       " {'user_id': 82, 'order_dow': 3, 'n_orders': 1},\n",
       " {'user_id': 82, 'order_dow': 4, 'n_orders': 3},\n",
       " {'user_id': 82, 'order_dow': 5, 'n_orders': 4},\n",
       " {'user_id': 83, 'order_dow': 1, 'n_orders': 1},\n",
       " {'user_id': 83, 'order_dow': 2, 'n_orders': 2},\n",
       " {'user_id': 83, 'order_dow': 3, 'n_orders': 1},\n",
       " {'user_id': 83, 'order_dow': 4, 'n_orders': 2},\n",
       " {'user_id': 83, 'order_dow': 5, 'n_orders': 1},\n",
       " {'user_id': 84, 'order_dow': 0, 'n_orders': 4},\n",
       " {'user_id': 84, 'order_dow': 1, 'n_orders': 1},\n",
       " {'user_id': 84, 'order_dow': 3, 'n_orders': 1},\n",
       " {'user_id': 84, 'order_dow': 4, 'n_orders': 1},\n",
       " {'user_id': 84, 'order_dow': 5, 'n_orders': 2},\n",
       " {'user_id': 85, 'order_dow': 0, 'n_orders': 1},\n",
       " {'user_id': 85, 'order_dow': 1, 'n_orders': 2},\n",
       " {'user_id': 85, 'order_dow': 4, 'n_orders': 1},\n",
       " {'user_id': 85, 'order_dow': 6, 'n_orders': 3},\n",
       " {'user_id': 86, 'order_dow': 0, 'n_orders': 6},\n",
       " {'user_id': 86, 'order_dow': 1, 'n_orders': 5},\n",
       " {'user_id': 86, 'order_dow': 2, 'n_orders': 2},\n",
       " {'user_id': 86, 'order_dow': 3, 'n_orders': 1},\n",
       " {'user_id': 86, 'order_dow': 6, 'n_orders': 4},\n",
       " {'user_id': 87, 'order_dow': 0, 'n_orders': 6},\n",
       " {'user_id': 87, 'order_dow': 1, 'n_orders': 6},\n",
       " {'user_id': 87, 'order_dow': 2, 'n_orders': 5},\n",
       " {'user_id': 87, 'order_dow': 3, 'n_orders': 3},\n",
       " {'user_id': 87, 'order_dow': 4, 'n_orders': 1},\n",
       " {'user_id': 87, 'order_dow': 5, 'n_orders': 2},\n",
       " {'user_id': 87, 'order_dow': 6, 'n_orders': 5},\n",
       " {'user_id': 88, 'order_dow': 1, 'n_orders': 3},\n",
       " {'user_id': 88, 'order_dow': 3, 'n_orders': 1},\n",
       " {'user_id': 88, 'order_dow': 4, 'n_orders': 1},\n",
       " {'user_id': 88, 'order_dow': 6, 'n_orders': 3},\n",
       " {'user_id': 89, 'order_dow': 0, 'n_orders': 8},\n",
       " {'user_id': 89, 'order_dow': 1, 'n_orders': 8},\n",
       " {'user_id': 89, 'order_dow': 4, 'n_orders': 2},\n",
       " {'user_id': 89, 'order_dow': 5, 'n_orders': 1},\n",
       " {'user_id': 89, 'order_dow': 6, 'n_orders': 2},\n",
       " {'user_id': 90, 'order_dow': 0, 'n_orders': 1},\n",
       " {'user_id': 90, 'order_dow': 1, 'n_orders': 5},\n",
       " {'user_id': 90, 'order_dow': 2, 'n_orders': 11},\n",
       " {'user_id': 90, 'order_dow': 3, 'n_orders': 19},\n",
       " {'user_id': 90, 'order_dow': 4, 'n_orders': 8},\n",
       " {'user_id': 90, 'order_dow': 5, 'n_orders': 28},\n",
       " {'user_id': 91, 'order_dow': 1, 'n_orders': 3},\n",
       " {'user_id': 91, 'order_dow': 2, 'n_orders': 3},\n",
       " {'user_id': 91, 'order_dow': 3, 'n_orders': 2},\n",
       " {'user_id': 91, 'order_dow': 4, 'n_orders': 5},\n",
       " {'user_id': 91, 'order_dow': 6, 'n_orders': 3},\n",
       " {'user_id': 92, 'order_dow': 1, 'n_orders': 1},\n",
       " {'user_id': 92, 'order_dow': 2, 'n_orders': 3},\n",
       " {'user_id': 92, 'order_dow': 5, 'n_orders': 0},\n",
       " {'user_id': 92, 'order_dow': 6, 'n_orders': 1},\n",
       " {'user_id': 93, 'order_dow': 0, 'n_orders': 2},\n",
       " {'user_id': 93, 'order_dow': 1, 'n_orders': 1},\n",
       " {'user_id': 93, 'order_dow': 2, 'n_orders': 1},\n",
       " {'user_id': 93, 'order_dow': 3, 'n_orders': 2},\n",
       " {'user_id': 93, 'order_dow': 4, 'n_orders': 1},\n",
       " {'user_id': 93, 'order_dow': 5, 'n_orders': 3},\n",
       " {'user_id': 93, 'order_dow': 6, 'n_orders': 5},\n",
       " {'user_id': 94, 'order_dow': 0, 'n_orders': 2},\n",
       " {'user_id': 94, 'order_dow': 3, 'n_orders': 1},\n",
       " {'user_id': 94, 'order_dow': 5, 'n_orders': 2},\n",
       " {'user_id': 94, 'order_dow': 6, 'n_orders': 4},\n",
       " {'user_id': 95, 'order_dow': 1, 'n_orders': 3},\n",
       " {'user_id': 95, 'order_dow': 3, 'n_orders': 2},\n",
       " {'user_id': 95, 'order_dow': 5, 'n_orders': 4},\n",
       " {'user_id': 96, 'order_dow': 0, 'n_orders': 2},\n",
       " {'user_id': 96, 'order_dow': 1, 'n_orders': 4},\n",
       " {'user_id': 96, 'order_dow': 2, 'n_orders': 1},\n",
       " {'user_id': 96, 'order_dow': 3, 'n_orders': 2},\n",
       " {'user_id': 96, 'order_dow': 4, 'n_orders': 4},\n",
       " {'user_id': 96, 'order_dow': 5, 'n_orders': 2},\n",
       " {'user_id': 96, 'order_dow': 6, 'n_orders': 2},\n",
       " {'user_id': 97, 'order_dow': 0, 'n_orders': 2},\n",
       " {'user_id': 97, 'order_dow': 1, 'n_orders': 1},\n",
       " {'user_id': 97, 'order_dow': 4, 'n_orders': 1},\n",
       " {'user_id': 97, 'order_dow': 6, 'n_orders': 2},\n",
       " {'user_id': 98, 'order_dow': 0, 'n_orders': 3},\n",
       " {'user_id': 98, 'order_dow': 3, 'n_orders': 4},\n",
       " {'user_id': 98, 'order_dow': 4, 'n_orders': 4},\n",
       " {'user_id': 98, 'order_dow': 5, 'n_orders': 2},\n",
       " {'user_id': 98, 'order_dow': 6, 'n_orders': 1},\n",
       " {'user_id': 99, 'order_dow': 0, 'n_orders': 3},\n",
       " {'user_id': 99, 'order_dow': 1, 'n_orders': 2},\n",
       " {'user_id': 99, 'order_dow': 2, 'n_orders': 4},\n",
       " {'user_id': 99, 'order_dow': 3, 'n_orders': 3},\n",
       " {'user_id': 99, 'order_dow': 4, 'n_orders': 4},\n",
       " {'user_id': 99, 'order_dow': 5, 'n_orders': 3},\n",
       " {'user_id': 100, 'order_dow': 0, 'n_orders': 1},\n",
       " {'user_id': 100, 'order_dow': 1, 'n_orders': 1},\n",
       " {'user_id': 100, 'order_dow': 3, 'n_orders': 2},\n",
       " {'user_id': 100, 'order_dow': 5, 'n_orders': 1},\n",
       " {'user_id': 101, 'order_dow': 0, 'n_orders': 5},\n",
       " {'user_id': 101, 'order_dow': 1, 'n_orders': 1},\n",
       " {'user_id': 101, 'order_dow': 2, 'n_orders': 2},\n",
       " {'user_id': 101, 'order_dow': 3, 'n_orders': 2},\n",
       " {'user_id': 101, 'order_dow': 4, 'n_orders': 2},\n",
       " {'user_id': 101, 'order_dow': 5, 'n_orders': 7},\n",
       " {'user_id': 101, 'order_dow': 6, 'n_orders': 1},\n",
       " {'user_id': 102, 'order_dow': 0, 'n_orders': 2},\n",
       " {'user_id': 102, 'order_dow': 1, 'n_orders': 1},\n",
       " {'user_id': 102, 'order_dow': 3, 'n_orders': 1},\n",
       " {'user_id': 102, 'order_dow': 5, 'n_orders': 2},\n",
       " {'user_id': 102, 'order_dow': 6, 'n_orders': 1},\n",
       " {'user_id': 103, 'order_dow': 0, 'n_orders': 1},\n",
       " {'user_id': 103, 'order_dow': 1, 'n_orders': 2},\n",
       " {'user_id': 103, 'order_dow': 2, 'n_orders': 6},\n",
       " {'user_id': 103, 'order_dow': 3, 'n_orders': 4},\n",
       " {'user_id': 103, 'order_dow': 4, 'n_orders': 2},\n",
       " {'user_id': 103, 'order_dow': 5, 'n_orders': 1},\n",
       " {'user_id': 103, 'order_dow': 6, 'n_orders': 2},\n",
       " {'user_id': 104, 'order_dow': 1, 'n_orders': 1},\n",
       " {'user_id': 104, 'order_dow': 2, 'n_orders': 1},\n",
       " {'user_id': 104, 'order_dow': 3, 'n_orders': 2},\n",
       " {'user_id': 104, 'order_dow': 4, 'n_orders': 2},\n",
       " {'user_id': 105, 'order_dow': 0, 'n_orders': 2},\n",
       " {'user_id': 105, 'order_dow': 1, 'n_orders': 1},\n",
       " {'user_id': 105, 'order_dow': 3, 'n_orders': 2},\n",
       " {'user_id': 105, 'order_dow': 5, 'n_orders': 3},\n",
       " {'user_id': 106, 'order_dow': 0, 'n_orders': 1},\n",
       " {'user_id': 106, 'order_dow': 5, 'n_orders': 1},\n",
       " {'user_id': 106, 'order_dow': 6, 'n_orders': 2},\n",
       " {'user_id': 107, 'order_dow': 0, 'n_orders': 4},\n",
       " {'user_id': 107, 'order_dow': 1, 'n_orders': 1},\n",
       " {'user_id': 107, 'order_dow': 3, 'n_orders': 4},\n",
       " {'user_id': 107, 'order_dow': 4, 'n_orders': 2},\n",
       " {'user_id': 107, 'order_dow': 5, 'n_orders': 3},\n",
       " {'user_id': 107, 'order_dow': 6, 'n_orders': 1},\n",
       " {'user_id': 108, 'order_dow': 0, 'n_orders': 5},\n",
       " {'user_id': 108, 'order_dow': 1, 'n_orders': 1},\n",
       " {'user_id': 108, 'order_dow': 3, 'n_orders': 1},\n",
       " {'user_id': 108, 'order_dow': 6, 'n_orders': 1},\n",
       " {'user_id': 109, 'order_dow': 0, 'n_orders': 1},\n",
       " {'user_id': 109, 'order_dow': 1, 'n_orders': 4},\n",
       " {'user_id': 109, 'order_dow': 2, 'n_orders': 1},\n",
       " {'user_id': 109, 'order_dow': 3, 'n_orders': 1},\n",
       " {'user_id': 110, 'order_dow': 0, 'n_orders': 7},\n",
       " {'user_id': 110, 'order_dow': 1, 'n_orders': 4},\n",
       " {'user_id': 110, 'order_dow': 2, 'n_orders': 3},\n",
       " {'user_id': 110, 'order_dow': 3, 'n_orders': 3},\n",
       " {'user_id': 110, 'order_dow': 4, 'n_orders': 1},\n",
       " {'user_id': 110, 'order_dow': 5, 'n_orders': 3},\n",
       " {'user_id': 111, 'order_dow': 0, 'n_orders': 1},\n",
       " {'user_id': 111, 'order_dow': 4, 'n_orders': 2},\n",
       " {'user_id': 111, 'order_dow': 5, 'n_orders': 3},\n",
       " {'user_id': 111, 'order_dow': 6, 'n_orders': 2},\n",
       " {'user_id': 112, 'order_dow': 0, 'n_orders': 3},\n",
       " {'user_id': 112, 'order_dow': 1, 'n_orders': 5},\n",
       " {'user_id': 112, 'order_dow': 2, 'n_orders': 5},\n",
       " {'user_id': 112, 'order_dow': 3, 'n_orders': 1},\n",
       " {'user_id': 112, 'order_dow': 4, 'n_orders': 5},\n",
       " {'user_id': 112, 'order_dow': 5, 'n_orders': 3},\n",
       " {'user_id': 112, 'order_dow': 6, 'n_orders': 5},\n",
       " {'user_id': 113, 'order_dow': 3, 'n_orders': 2},\n",
       " {'user_id': 113, 'order_dow': 4, 'n_orders': 1},\n",
       " {'user_id': 113, 'order_dow': 5, 'n_orders': 3},\n",
       " {'user_id': 114, 'order_dow': 0, 'n_orders': 3},\n",
       " {'user_id': 114, 'order_dow': 1, 'n_orders': 1},\n",
       " {'user_id': 114, 'order_dow': 5, 'n_orders': 1},\n",
       " {'user_id': 115, 'order_dow': 0, 'n_orders': 4},\n",
       " {'user_id': 115, 'order_dow': 1, 'n_orders': 1},\n",
       " {'user_id': 115, 'order_dow': 2, 'n_orders': 1},\n",
       " {'user_id': 115, 'order_dow': 3, 'n_orders': 1},\n",
       " {'user_id': 115, 'order_dow': 4, 'n_orders': 1},\n",
       " {'user_id': 115, 'order_dow': 5, 'n_orders': 2},\n",
       " {'user_id': 115, 'order_dow': 6, 'n_orders': 3},\n",
       " {'user_id': 116, 'order_dow': 0, 'n_orders': 2},\n",
       " {'user_id': 116, 'order_dow': 1, 'n_orders': 1},\n",
       " {'user_id': 116, 'order_dow': 4, 'n_orders': 1},\n",
       " {'user_id': 116, 'order_dow': 5, 'n_orders': 2},\n",
       " {'user_id': 116, 'order_dow': 6, 'n_orders': 1},\n",
       " {'user_id': 117, 'order_dow': 0, 'n_orders': 2},\n",
       " {'user_id': 117, 'order_dow': 1, 'n_orders': 2},\n",
       " {'user_id': 117, 'order_dow': 3, 'n_orders': 3},\n",
       " {'user_id': 117, 'order_dow': 4, 'n_orders': 2},\n",
       " {'user_id': 117, 'order_dow': 5, 'n_orders': 3},\n",
       " {'user_id': 118, 'order_dow': 1, 'n_orders': 17},\n",
       " {'user_id': 118, 'order_dow': 2, 'n_orders': 3},\n",
       " {'user_id': 118, 'order_dow': 3, 'n_orders': 4},\n",
       " {'user_id': 118, 'order_dow': 4, 'n_orders': 1},\n",
       " {'user_id': 118, 'order_dow': 5, 'n_orders': 3},\n",
       " {'user_id': 119, 'order_dow': 0, 'n_orders': 2},\n",
       " {'user_id': 119, 'order_dow': 3, 'n_orders': 1},\n",
       " {'user_id': 119, 'order_dow': 6, 'n_orders': 1},\n",
       " {'user_id': 120, 'order_dow': 2, 'n_orders': 2},\n",
       " {'user_id': 120, 'order_dow': 3, 'n_orders': 1},\n",
       " {'user_id': 120, 'order_dow': 4, 'n_orders': 1},\n",
       " {'user_id': 121, 'order_dow': 0, 'n_orders': 2},\n",
       " {'user_id': 121, 'order_dow': 1, 'n_orders': 3},\n",
       " {'user_id': 121, 'order_dow': 2, 'n_orders': 1},\n",
       " {'user_id': 121, 'order_dow': 3, 'n_orders': 3},\n",
       " {'user_id': 121, 'order_dow': 5, 'n_orders': 1},\n",
       " {'user_id': 121, 'order_dow': 6, 'n_orders': 1},\n",
       " {'user_id': 122, 'order_dow': 0, 'n_orders': 3},\n",
       " {'user_id': 122, 'order_dow': 1, 'n_orders': 1},\n",
       " {'user_id': 122, 'order_dow': 3, 'n_orders': 6},\n",
       " {'user_id': 122, 'order_dow': 4, 'n_orders': 4},\n",
       " {'user_id': 122, 'order_dow': 5, 'n_orders': 8},\n",
       " {'user_id': 122, 'order_dow': 6, 'n_orders': 7},\n",
       " {'user_id': 123, 'order_dow': 0, 'n_orders': 6},\n",
       " {'user_id': 123, 'order_dow': 2, 'n_orders': 1},\n",
       " {'user_id': 123, 'order_dow': 3, 'n_orders': 1},\n",
       " {'user_id': 123, 'order_dow': 4, 'n_orders': 3},\n",
       " {'user_id': 124, 'order_dow': 0, 'n_orders': 1},\n",
       " {'user_id': 124, 'order_dow': 1, 'n_orders': 7},\n",
       " {'user_id': 124, 'order_dow': 2, 'n_orders': 1},\n",
       " {'user_id': 125, 'order_dow': 0, 'n_orders': 3},\n",
       " {'user_id': 125, 'order_dow': 1, 'n_orders': 2},\n",
       " {'user_id': 125, 'order_dow': 2, 'n_orders': 1},\n",
       " {'user_id': 125, 'order_dow': 3, 'n_orders': 1},\n",
       " {'user_id': 125, 'order_dow': 4, 'n_orders': 2},\n",
       " {'user_id': 125, 'order_dow': 5, 'n_orders': 1},\n",
       " {'user_id': 125, 'order_dow': 6, 'n_orders': 4},\n",
       " {'user_id': 126, 'order_dow': 0, 'n_orders': 6},\n",
       " {'user_id': 126, 'order_dow': 1, 'n_orders': 1},\n",
       " {'user_id': 126, 'order_dow': 6, 'n_orders': 3},\n",
       " {'user_id': 127, 'order_dow': 0, 'n_orders': 6},\n",
       " {'user_id': 127, 'order_dow': 1, 'n_orders': 3},\n",
       " {'user_id': 127, 'order_dow': 2, 'n_orders': 0},\n",
       " {'user_id': 127, 'order_dow': 3, 'n_orders': 6},\n",
       " {'user_id': 127, 'order_dow': 6, 'n_orders': 2},\n",
       " {'user_id': 128, 'order_dow': 0, 'n_orders': 5},\n",
       " {'user_id': 128, 'order_dow': 1, 'n_orders': 2},\n",
       " {'user_id': 128, 'order_dow': 3, 'n_orders': 1},\n",
       " {'user_id': 128, 'order_dow': 4, 'n_orders': 1},\n",
       " {'user_id': 128, 'order_dow': 5, 'n_orders': 1},\n",
       " {'user_id': 128, 'order_dow': 6, 'n_orders': 2},\n",
       " {'user_id': 129, 'order_dow': 0, 'n_orders': 1},\n",
       " {'user_id': 129, 'order_dow': 1, 'n_orders': 4},\n",
       " {'user_id': 129, 'order_dow': 2, 'n_orders': 2},\n",
       " {'user_id': 129, 'order_dow': 3, 'n_orders': 1},\n",
       " {'user_id': 129, 'order_dow': 4, 'n_orders': 3},\n",
       " {'user_id': 130, 'order_dow': 3, 'n_orders': 1},\n",
       " {'user_id': 130, 'order_dow': 5, 'n_orders': 3},\n",
       " {'user_id': 131, 'order_dow': 0, 'n_orders': 2},\n",
       " {'user_id': 131, 'order_dow': 2, 'n_orders': 2},\n",
       " {'user_id': 131, 'order_dow': 3, 'n_orders': 3},\n",
       " {'user_id': 131, 'order_dow': 6, 'n_orders': 3},\n",
       " {'user_id': 132, 'order_dow': 0, 'n_orders': 5},\n",
       " {'user_id': 132, 'order_dow': 1, 'n_orders': 3},\n",
       " {'user_id': 132, 'order_dow': 2, 'n_orders': 7},\n",
       " {'user_id': 132, 'order_dow': 3, 'n_orders': 4},\n",
       " {'user_id': 132, 'order_dow': 4, 'n_orders': 1},\n",
       " {'user_id': 132, 'order_dow': 5, 'n_orders': 4},\n",
       " {'user_id': 132, 'order_dow': 6, 'n_orders': 1},\n",
       " {'user_id': 133, 'order_dow': 0, 'n_orders': 3},\n",
       " {'user_id': 133, 'order_dow': 1, 'n_orders': 4},\n",
       " {'user_id': 133, 'order_dow': 2, 'n_orders': 2},\n",
       " {'user_id': 133, 'order_dow': 3, 'n_orders': 3},\n",
       " {'user_id': 133, 'order_dow': 4, 'n_orders': 5},\n",
       " {'user_id': 133, 'order_dow': 5, 'n_orders': 2},\n",
       " {'user_id': 133, 'order_dow': 6, 'n_orders': 1},\n",
       " {'user_id': 134, 'order_dow': 0, 'n_orders': 2},\n",
       " {'user_id': 134, 'order_dow': 1, 'n_orders': 0},\n",
       " {'user_id': 134, 'order_dow': 4, 'n_orders': 1},\n",
       " {'user_id': 134, 'order_dow': 6, 'n_orders': 3},\n",
       " {'user_id': 135, 'order_dow': 0, 'n_orders': 2},\n",
       " {'user_id': 135, 'order_dow': 2, 'n_orders': 1},\n",
       " {'user_id': 135, 'order_dow': 3, 'n_orders': 1},\n",
       " {'user_id': 135, 'order_dow': 4, 'n_orders': 1},\n",
       " {'user_id': 136, 'order_dow': 0, 'n_orders': 2},\n",
       " {'user_id': 136, 'order_dow': 1, 'n_orders': 2},\n",
       " {'user_id': 137, 'order_dow': 0, 'n_orders': 2},\n",
       " {'user_id': 137, 'order_dow': 3, 'n_orders': 1},\n",
       " {'user_id': 137, 'order_dow': 6, 'n_orders': 3},\n",
       " {'user_id': 138, 'order_dow': 0, 'n_orders': 10},\n",
       " {'user_id': 138, 'order_dow': 1, 'n_orders': 2},\n",
       " {'user_id': 138, 'order_dow': 2, 'n_orders': 4},\n",
       " {'user_id': 138, 'order_dow': 3, 'n_orders': 2},\n",
       " {'user_id': 138, 'order_dow': 5, 'n_orders': 6},\n",
       " {'user_id': 138, 'order_dow': 6, 'n_orders': 9},\n",
       " {'user_id': 139, 'order_dow': 2, 'n_orders': 2},\n",
       " {'user_id': 139, 'order_dow': 3, 'n_orders': 2},\n",
       " {'user_id': 139, 'order_dow': 5, 'n_orders': 1},\n",
       " {'user_id': 140, 'order_dow': 0, 'n_orders': 10},\n",
       " {'user_id': 140, 'order_dow': 1, 'n_orders': 10},\n",
       " {'user_id': 140, 'order_dow': 2, 'n_orders': 10},\n",
       " {'user_id': 140, 'order_dow': 3, 'n_orders': 12},\n",
       " {'user_id': 140, 'order_dow': 4, 'n_orders': 12},\n",
       " {'user_id': 140, 'order_dow': 5, 'n_orders': 11},\n",
       " {'user_id': 140, 'order_dow': 6, 'n_orders': 12},\n",
       " {'user_id': 141, 'order_dow': 0, 'n_orders': 1},\n",
       " {'user_id': 141, 'order_dow': 2, 'n_orders': 1},\n",
       " {'user_id': 141, 'order_dow': 3, 'n_orders': 0},\n",
       " {'user_id': 141, 'order_dow': 4, 'n_orders': 1},\n",
       " {'user_id': 141, 'order_dow': 6, 'n_orders': 1},\n",
       " {'user_id': 142, 'order_dow': 0, 'n_orders': 7},\n",
       " {'user_id': 142, 'order_dow': 1, 'n_orders': 10},\n",
       " {'user_id': 142, 'order_dow': 2, 'n_orders': 4},\n",
       " {'user_id': 142, 'order_dow': 3, 'n_orders': 5},\n",
       " {'user_id': 142, 'order_dow': 4, 'n_orders': 6},\n",
       " {'user_id': 142, 'order_dow': 5, 'n_orders': 7},\n",
       " {'user_id': 142, 'order_dow': 6, 'n_orders': 7},\n",
       " {'user_id': 143, 'order_dow': 0, 'n_orders': 1},\n",
       " {'user_id': 143, 'order_dow': 5, 'n_orders': 12},\n",
       " {'user_id': 143, 'order_dow': 6, 'n_orders': 2},\n",
       " {'user_id': 144, 'order_dow': 0, 'n_orders': 2},\n",
       " {'user_id': 144, 'order_dow': 1, 'n_orders': 1},\n",
       " {'user_id': 144, 'order_dow': 2, 'n_orders': 2},\n",
       " {'user_id': 144, 'order_dow': 3, 'n_orders': 1},\n",
       " {'user_id': 144, 'order_dow': 4, 'n_orders': 2},\n",
       " {'user_id': 145, 'order_dow': 0, 'n_orders': 1},\n",
       " {'user_id': 145, 'order_dow': 1, 'n_orders': 1},\n",
       " {'user_id': 145, 'order_dow': 2, 'n_orders': 3},\n",
       " {'user_id': 145, 'order_dow': 3, 'n_orders': 1},\n",
       " {'user_id': 145, 'order_dow': 4, 'n_orders': 1},\n",
       " {'user_id': 145, 'order_dow': 6, 'n_orders': 2},\n",
       " {'user_id': 146, 'order_dow': 0, 'n_orders': 15},\n",
       " {'user_id': 146, 'order_dow': 1, 'n_orders': 4},\n",
       " {'user_id': 146, 'order_dow': 2, 'n_orders': 2},\n",
       " {'user_id': 146, 'order_dow': 3, 'n_orders': 2},\n",
       " {'user_id': 146, 'order_dow': 4, 'n_orders': 4},\n",
       " {'user_id': 146, 'order_dow': 5, 'n_orders': 5},\n",
       " {'user_id': 146, 'order_dow': 6, 'n_orders': 9},\n",
       " {'user_id': 147, 'order_dow': 0, 'n_orders': 8},\n",
       " {'user_id': 147, 'order_dow': 1, 'n_orders': 1},\n",
       " {'user_id': 147, 'order_dow': 5, 'n_orders': 2},\n",
       " {'user_id': 147, 'order_dow': 6, 'n_orders': 3},\n",
       " {'user_id': 148, 'order_dow': 1, 'n_orders': 1},\n",
       " {'user_id': 148, 'order_dow': 2, 'n_orders': 1},\n",
       " {'user_id': 148, 'order_dow': 3, 'n_orders': 1},\n",
       " {'user_id': 148, 'order_dow': 4, 'n_orders': 1},\n",
       " {'user_id': 148, 'order_dow': 5, 'n_orders': 2},\n",
       " {'user_id': 148, 'order_dow': 6, 'n_orders': 2},\n",
       " {'user_id': 149, 'order_dow': 0, 'n_orders': 4},\n",
       " {'user_id': 149, 'order_dow': 2, 'n_orders': 1},\n",
       " {'user_id': 149, 'order_dow': 4, 'n_orders': 1},\n",
       " {'user_id': 149, 'order_dow': 5, 'n_orders': 1},\n",
       " {'user_id': 149, 'order_dow': 6, 'n_orders': 8},\n",
       " {'user_id': 150, 'order_dow': 0, 'n_orders': 4},\n",
       " {'user_id': 150, 'order_dow': 1, 'n_orders': 5},\n",
       " {'user_id': 150, 'order_dow': 2, 'n_orders': 5},\n",
       " {'user_id': 150, 'order_dow': 3, 'n_orders': 2},\n",
       " {'user_id': 150, 'order_dow': 4, 'n_orders': 6},\n",
       " {'user_id': 150, 'order_dow': 5, 'n_orders': 5},\n",
       " {'user_id': 150, 'order_dow': 6, 'n_orders': 5},\n",
       " {'user_id': 151, 'order_dow': 0, 'n_orders': 2},\n",
       " {'user_id': 151, 'order_dow': 1, 'n_orders': 1},\n",
       " {'user_id': 151, 'order_dow': 2, 'n_orders': 3},\n",
       " {'user_id': 151, 'order_dow': 3, 'n_orders': 3},\n",
       " {'user_id': 151, 'order_dow': 5, 'n_orders': 1},\n",
       " {'user_id': 151, 'order_dow': 6, 'n_orders': 1},\n",
       " {'user_id': 152, 'order_dow': 0, 'n_orders': 14},\n",
       " {'user_id': 152, 'order_dow': 1, 'n_orders': 9},\n",
       " {'user_id': 152, 'order_dow': 2, 'n_orders': 7},\n",
       " {'user_id': 152, 'order_dow': 3, 'n_orders': 6},\n",
       " {'user_id': 152, 'order_dow': 4, 'n_orders': 9},\n",
       " {'user_id': 152, 'order_dow': 5, 'n_orders': 15},\n",
       " {'user_id': 152, 'order_dow': 6, 'n_orders': 5},\n",
       " {'user_id': 153, 'order_dow': 0, 'n_orders': 11},\n",
       " {'user_id': 153, 'order_dow': 1, 'n_orders': 4},\n",
       " {'user_id': 153, 'order_dow': 4, 'n_orders': 1},\n",
       " {'user_id': 153, 'order_dow': 5, 'n_orders': 2},\n",
       " {'user_id': 153, 'order_dow': 6, 'n_orders': 1},\n",
       " {'user_id': 154, 'order_dow': 0, 'n_orders': 9},\n",
       " {'user_id': 154, 'order_dow': 1, 'n_orders': 17},\n",
       " {'user_id': 154, 'order_dow': 2, 'n_orders': 6},\n",
       " {'user_id': 154, 'order_dow': 3, 'n_orders': 2},\n",
       " {'user_id': 154, 'order_dow': 4, 'n_orders': 0},\n",
       " {'user_id': 154, 'order_dow': 5, 'n_orders': 1},\n",
       " {'user_id': 155, 'order_dow': 0, 'n_orders': 4},\n",
       " {'user_id': 155, 'order_dow': 1, 'n_orders': 8},\n",
       " {'user_id': 155, 'order_dow': 2, 'n_orders': 5},\n",
       " {'user_id': 155, 'order_dow': 3, 'n_orders': 2},\n",
       " {'user_id': 155, 'order_dow': 4, 'n_orders': 2},\n",
       " {'user_id': 155, 'order_dow': 5, 'n_orders': 1},\n",
       " {'user_id': 155, 'order_dow': 6, 'n_orders': 1},\n",
       " {'user_id': 156, 'order_dow': 0, 'n_orders': 2},\n",
       " {'user_id': 156, 'order_dow': 5, 'n_orders': 1},\n",
       " {'user_id': 157, 'order_dow': 0, 'n_orders': 1},\n",
       " {'user_id': 157, 'order_dow': 1, 'n_orders': 1},\n",
       " {'user_id': 157, 'order_dow': 3, 'n_orders': 1},\n",
       " {'user_id': 157, 'order_dow': 4, 'n_orders': 1},\n",
       " {'user_id': 157, 'order_dow': 6, 'n_orders': 1},\n",
       " {'user_id': 158, 'order_dow': 0, 'n_orders': 1},\n",
       " {'user_id': 158, 'order_dow': 1, 'n_orders': 2},\n",
       " {'user_id': 158, 'order_dow': 4, 'n_orders': 1},\n",
       " {'user_id': 158, 'order_dow': 6, 'n_orders': 1},\n",
       " {'user_id': 159, 'order_dow': 3, 'n_orders': 1},\n",
       " {'user_id': 159, 'order_dow': 4, 'n_orders': 3},\n",
       " {'user_id': 160, 'order_dow': 0, 'n_orders': 3},\n",
       " {'user_id': 160, 'order_dow': 1, 'n_orders': 5},\n",
       " {'user_id': 160, 'order_dow': 2, 'n_orders': 3},\n",
       " {'user_id': 160, 'order_dow': 3, 'n_orders': 1},\n",
       " {'user_id': 160, 'order_dow': 6, 'n_orders': 1},\n",
       " {'user_id': 161, 'order_dow': 0, 'n_orders': 4},\n",
       " {'user_id': 161, 'order_dow': 1, 'n_orders': 4},\n",
       " {'user_id': 161, 'order_dow': 2, 'n_orders': 2},\n",
       " {'user_id': 161, 'order_dow': 3, 'n_orders': 1},\n",
       " {'user_id': 161, 'order_dow': 4, 'n_orders': 4},\n",
       " {'user_id': 161, 'order_dow': 5, 'n_orders': 2},\n",
       " {'user_id': 161, 'order_dow': 6, 'n_orders': 4},\n",
       " {'user_id': 162, 'order_dow': 0, 'n_orders': 3},\n",
       " {'user_id': 162, 'order_dow': 1, 'n_orders': 2},\n",
       " {'user_id': 162, 'order_dow': 2, 'n_orders': 2},\n",
       " {'user_id': 162, 'order_dow': 3, 'n_orders': 3},\n",
       " {'user_id': 162, 'order_dow': 5, 'n_orders': 3},\n",
       " {'user_id': 162, 'order_dow': 6, 'n_orders': 1},\n",
       " {'user_id': 163, 'order_dow': 0, 'n_orders': 1},\n",
       " {'user_id': 163, 'order_dow': 1, 'n_orders': 5},\n",
       " {'user_id': 163, 'order_dow': 3, 'n_orders': 2},\n",
       " {'user_id': 163, 'order_dow': 4, 'n_orders': 2},\n",
       " {'user_id': 163, 'order_dow': 6, 'n_orders': 2},\n",
       " {'user_id': 164, 'order_dow': 0, 'n_orders': 1},\n",
       " {'user_id': 164, 'order_dow': 1, 'n_orders': 3},\n",
       " {'user_id': 164, 'order_dow': 3, 'n_orders': 2},\n",
       " {'user_id': 164, 'order_dow': 4, 'n_orders': 1},\n",
       " {'user_id': 164, 'order_dow': 6, 'n_orders': 4},\n",
       " {'user_id': 165, 'order_dow': 0, 'n_orders': 3},\n",
       " {'user_id': 165, 'order_dow': 3, 'n_orders': 1},\n",
       " {'user_id': 165, 'order_dow': 4, 'n_orders': 1},\n",
       " {'user_id': 165, 'order_dow': 5, 'n_orders': 1},\n",
       " {'user_id': 165, 'order_dow': 6, 'n_orders': 1},\n",
       " {'user_id': 166, 'order_dow': 0, 'n_orders': 2},\n",
       " {'user_id': 166, 'order_dow': 1, 'n_orders': 1},\n",
       " {'user_id': 166, 'order_dow': 3, 'n_orders': 2},\n",
       " {'user_id': 166, 'order_dow': 5, 'n_orders': 1},\n",
       " {'user_id': 167, 'order_dow': 0, 'n_orders': 2},\n",
       " {'user_id': 167, 'order_dow': 1, 'n_orders': 1},\n",
       " {'user_id': 167, 'order_dow': 6, 'n_orders': 3},\n",
       " {'user_id': 168, 'order_dow': 0, 'n_orders': 4},\n",
       " {'user_id': 168, 'order_dow': 1, 'n_orders': 3},\n",
       " {'user_id': 168, 'order_dow': 2, 'n_orders': 4},\n",
       " {'user_id': 168, 'order_dow': 3, 'n_orders': 3},\n",
       " {'user_id': 168, 'order_dow': 4, 'n_orders': 1},\n",
       " {'user_id': 168, 'order_dow': 5, 'n_orders': 4},\n",
       " {'user_id': 168, 'order_dow': 6, 'n_orders': 3},\n",
       " {'user_id': 169, 'order_dow': 1, 'n_orders': 1},\n",
       " {'user_id': 169, 'order_dow': 2, 'n_orders': 1},\n",
       " {'user_id': 169, 'order_dow': 4, 'n_orders': 3},\n",
       " {'user_id': 169, 'order_dow': 5, 'n_orders': 2},\n",
       " {'user_id': 170, 'order_dow': 1, 'n_orders': 2},\n",
       " {'user_id': 170, 'order_dow': 2, 'n_orders': 1},\n",
       " {'user_id': 170, 'order_dow': 4, 'n_orders': 0},\n",
       " {'user_id': 171, 'order_dow': 0, 'n_orders': 2},\n",
       " {'user_id': 171, 'order_dow': 1, 'n_orders': 1},\n",
       " {'user_id': 171, 'order_dow': 4, 'n_orders': 1},\n",
       " {'user_id': 171, 'order_dow': 5, 'n_orders': 1},\n",
       " {'user_id': 171, 'order_dow': 6, 'n_orders': 2},\n",
       " {'user_id': 172, 'order_dow': 1, 'n_orders': 2},\n",
       " {'user_id': 172, 'order_dow': 2, 'n_orders': 2},\n",
       " {'user_id': 172, 'order_dow': 3, 'n_orders': 1},\n",
       " {'user_id': 172, 'order_dow': 5, 'n_orders': 1},\n",
       " {'user_id': 173, 'order_dow': 0, 'n_orders': 4},\n",
       " {'user_id': 173, 'order_dow': 1, 'n_orders': 9},\n",
       " {'user_id': 173, 'order_dow': 2, 'n_orders': 9},\n",
       " {'user_id': 173, 'order_dow': 3, 'n_orders': 9},\n",
       " {'user_id': 173, 'order_dow': 4, 'n_orders': 10},\n",
       " {'user_id': 173, 'order_dow': 5, 'n_orders': 2},\n",
       " {'user_id': 173, 'order_dow': 6, 'n_orders': 2},\n",
       " {'user_id': 174, 'order_dow': 0, 'n_orders': 10},\n",
       " {'user_id': 174, 'order_dow': 1, 'n_orders': 2},\n",
       " {'user_id': 174, 'order_dow': 2, 'n_orders': 3},\n",
       " {'user_id': 174, 'order_dow': 3, 'n_orders': 3},\n",
       " {'user_id': 174, 'order_dow': 4, 'n_orders': 4},\n",
       " {'user_id': 174, 'order_dow': 5, 'n_orders': 5},\n",
       " {'user_id': 174, 'order_dow': 6, 'n_orders': 1},\n",
       " {'user_id': 175, 'order_dow': 0, 'n_orders': 2},\n",
       " {'user_id': 175, 'order_dow': 1, 'n_orders': 6},\n",
       " {'user_id': 175, 'order_dow': 2, 'n_orders': 2},\n",
       " {'user_id': 175, 'order_dow': 3, 'n_orders': 8},\n",
       " {'user_id': 175, 'order_dow': 4, 'n_orders': 4},\n",
       " {'user_id': 175, 'order_dow': 5, 'n_orders': 2},\n",
       " {'user_id': 176, 'order_dow': 0, 'n_orders': 1},\n",
       " {'user_id': 176, 'order_dow': 1, 'n_orders': 4},\n",
       " {'user_id': 176, 'order_dow': 2, 'n_orders': 1},\n",
       " {'user_id': 176, 'order_dow': 6, 'n_orders': 1},\n",
       " {'user_id': 177, 'order_dow': 0, 'n_orders': 5},\n",
       " {'user_id': 177, 'order_dow': 1, 'n_orders': 2},\n",
       " {'user_id': 177, 'order_dow': 3, 'n_orders': 1},\n",
       " {'user_id': 177, 'order_dow': 4, 'n_orders': 2},\n",
       " {'user_id': 177, 'order_dow': 5, 'n_orders': 3},\n",
       " {'user_id': 177, 'order_dow': 6, 'n_orders': 1},\n",
       " {'user_id': 178, 'order_dow': 1, 'n_orders': 2},\n",
       " {'user_id': 178, 'order_dow': 2, 'n_orders': 2},\n",
       " {'user_id': 178, 'order_dow': 4, 'n_orders': 1},\n",
       " {'user_id': 178, 'order_dow': 5, 'n_orders': 1},\n",
       " {'user_id': 179, 'order_dow': 0, 'n_orders': 1},\n",
       " {'user_id': 179, 'order_dow': 1, 'n_orders': 2},\n",
       " {'user_id': 179, 'order_dow': 2, 'n_orders': 1},\n",
       " {'user_id': 179, 'order_dow': 5, 'n_orders': 1},\n",
       " {'user_id': 179, 'order_dow': 6, 'n_orders': 1},\n",
       " {'user_id': 180, 'order_dow': 2, 'n_orders': 2},\n",
       " {'user_id': 180, 'order_dow': 5, 'n_orders': 0},\n",
       " {'user_id': 180, 'order_dow': 6, 'n_orders': 4},\n",
       " {'user_id': 181, 'order_dow': 0, 'n_orders': 2},\n",
       " {'user_id': 181, 'order_dow': 1, 'n_orders': 6},\n",
       " {'user_id': 181, 'order_dow': 2, 'n_orders': 1},\n",
       " {'user_id': 181, 'order_dow': 5, 'n_orders': 1},\n",
       " {'user_id': 182, 'order_dow': 0, 'n_orders': 6},\n",
       " {'user_id': 182, 'order_dow': 1, 'n_orders': 2},\n",
       " {'user_id': 182, 'order_dow': 2, 'n_orders': 2},\n",
       " {'user_id': 182, 'order_dow': 5, 'n_orders': 6},\n",
       " {'user_id': 182, 'order_dow': 6, 'n_orders': 10},\n",
       " {'user_id': 183, 'order_dow': 0, 'n_orders': 1},\n",
       " {'user_id': 183, 'order_dow': 1, 'n_orders': 1},\n",
       " {'user_id': 183, 'order_dow': 2, 'n_orders': 1},\n",
       " {'user_id': 183, 'order_dow': 5, 'n_orders': 1},\n",
       " {'user_id': 183, 'order_dow': 6, 'n_orders': 1},\n",
       " {'user_id': 184, 'order_dow': 0, 'n_orders': 2},\n",
       " {'user_id': 184, 'order_dow': 1, 'n_orders': 2},\n",
       " {'user_id': 184, 'order_dow': 2, 'n_orders': 1},\n",
       " {'user_id': 184, 'order_dow': 3, 'n_orders': 2},\n",
       " {'user_id': 184, 'order_dow': 4, 'n_orders': 2},\n",
       " {'user_id': 184, 'order_dow': 5, 'n_orders': 1},\n",
       " {'user_id': 184, 'order_dow': 6, 'n_orders': 2},\n",
       " {'user_id': 185, 'order_dow': 1, 'n_orders': 1},\n",
       " {'user_id': 185, 'order_dow': 2, 'n_orders': 3},\n",
       " {'user_id': 185, 'order_dow': 3, 'n_orders': 1},\n",
       " {'user_id': 185, 'order_dow': 4, 'n_orders': 1},\n",
       " {'user_id': 185, 'order_dow': 5, 'n_orders': 1},\n",
       " {'user_id': 186, 'order_dow': 0, 'n_orders': 1},\n",
       " {'user_id': 186, 'order_dow': 1, 'n_orders': 1},\n",
       " {'user_id': 186, 'order_dow': 3, 'n_orders': 1},\n",
       " {'user_id': 186, 'order_dow': 4, 'n_orders': 0},\n",
       " {'user_id': 186, 'order_dow': 6, 'n_orders': 4},\n",
       " {'user_id': 187, 'order_dow': 0, 'n_orders': 6},\n",
       " {'user_id': 187, 'order_dow': 1, 'n_orders': 7},\n",
       " {'user_id': 187, 'order_dow': 2, 'n_orders': 5},\n",
       " {'user_id': 187, 'order_dow': 3, 'n_orders': 5},\n",
       " {'user_id': 187, 'order_dow': 4, 'n_orders': 2},\n",
       " {'user_id': 187, 'order_dow': 5, 'n_orders': 5},\n",
       " {'user_id': 187, 'order_dow': 6, 'n_orders': 3},\n",
       " {'user_id': 188, 'order_dow': 0, 'n_orders': 1},\n",
       " {'user_id': 188, 'order_dow': 2, 'n_orders': 1},\n",
       " {'user_id': 188, 'order_dow': 3, 'n_orders': 1},\n",
       " {'user_id': 188, 'order_dow': 5, 'n_orders': 1},\n",
       " {'user_id': 188, 'order_dow': 6, 'n_orders': 1},\n",
       " {'user_id': 189, 'order_dow': 0, 'n_orders': 1},\n",
       " {'user_id': 189, 'order_dow': 1, 'n_orders': 4},\n",
       " {'user_id': 189, 'order_dow': 2, 'n_orders': 4},\n",
       " {'user_id': 189, 'order_dow': 4, 'n_orders': 2},\n",
       " {'user_id': 189, 'order_dow': 5, 'n_orders': 1},\n",
       " {'user_id': 190, 'order_dow': 0, 'n_orders': 2},\n",
       " {'user_id': 190, 'order_dow': 1, 'n_orders': 2},\n",
       " {'user_id': 190, 'order_dow': 2, 'n_orders': 2},\n",
       " {'user_id': 190, 'order_dow': 3, 'n_orders': 2},\n",
       " {'user_id': 190, 'order_dow': 4, 'n_orders': 3},\n",
       " {'user_id': 190, 'order_dow': 5, 'n_orders': 3},\n",
       " {'user_id': 190, 'order_dow': 6, 'n_orders': 3},\n",
       " {'user_id': 191, 'order_dow': 1, 'n_orders': 1},\n",
       " {'user_id': 191, 'order_dow': 3, 'n_orders': 4},\n",
       " {'user_id': 192, 'order_dow': 1, 'n_orders': 3},\n",
       " {'user_id': 192, 'order_dow': 2, 'n_orders': 2},\n",
       " {'user_id': 192, 'order_dow': 6, 'n_orders': 1},\n",
       " {'user_id': 193, 'order_dow': 1, 'n_orders': 3},\n",
       " {'user_id': 193, 'order_dow': 2, 'n_orders': 1},\n",
       " {'user_id': 193, 'order_dow': 4, 'n_orders': 2},\n",
       " {'user_id': 194, 'order_dow': 0, 'n_orders': 1},\n",
       " {'user_id': 194, 'order_dow': 1, 'n_orders': 1},\n",
       " {'user_id': 194, 'order_dow': 2, 'n_orders': 1},\n",
       " {'user_id': 194, 'order_dow': 4, 'n_orders': 2},\n",
       " {'user_id': 194, 'order_dow': 5, 'n_orders': 2},\n",
       " {'user_id': 194, 'order_dow': 6, 'n_orders': 2},\n",
       " {'user_id': 195, 'order_dow': 0, 'n_orders': 1},\n",
       " {'user_id': 195, 'order_dow': 1, 'n_orders': 16},\n",
       " {'user_id': 195, 'order_dow': 2, 'n_orders': 7},\n",
       " {'user_id': 195, 'order_dow': 3, 'n_orders': 5},\n",
       " {'user_id': 195, 'order_dow': 4, 'n_orders': 11},\n",
       " {'user_id': 195, 'order_dow': 5, 'n_orders': 19},\n",
       " {'user_id': 196, 'order_dow': 1, 'n_orders': 2},\n",
       " {'user_id': 196, 'order_dow': 3, 'n_orders': 1},\n",
       " {'user_id': 196, 'order_dow': 4, 'n_orders': 0},\n",
       " {'user_id': 197, 'order_dow': 0, 'n_orders': 4},\n",
       " {'user_id': 197, 'order_dow': 1, 'n_orders': 2},\n",
       " {'user_id': 197, 'order_dow': 3, 'n_orders': 3},\n",
       " {'user_id': 197, 'order_dow': 4, 'n_orders': 3},\n",
       " {'user_id': 197, 'order_dow': 5, 'n_orders': 2},\n",
       " {'user_id': 197, 'order_dow': 6, 'n_orders': 7},\n",
       " {'user_id': 198, 'order_dow': 0, 'n_orders': 1},\n",
       " {'user_id': 198, 'order_dow': 1, 'n_orders': 2},\n",
       " {'user_id': 198, 'order_dow': 2, 'n_orders': 1},\n",
       " {'user_id': 198, 'order_dow': 3, 'n_orders': 1},\n",
       " {'user_id': 198, 'order_dow': 4, 'n_orders': 1},\n",
       " {'user_id': 199, 'order_dow': 2, 'n_orders': 1},\n",
       " {'user_id': 199, 'order_dow': 6, 'n_orders': 3},\n",
       " {'user_id': 200, 'order_dow': 0, 'n_orders': 1},\n",
       " {'user_id': 200, 'order_dow': 1, 'n_orders': 0},\n",
       " {'user_id': 200, 'order_dow': 2, 'n_orders': 4},\n",
       " {'user_id': 200, 'order_dow': 3, 'n_orders': 1},\n",
       " {'user_id': 200, 'order_dow': 4, 'n_orders': 1},\n",
       " {'user_id': 200, 'order_dow': 5, 'n_orders': 2},\n",
       " {'user_id': 201, 'order_dow': 0, 'n_orders': 1},\n",
       " {'user_id': 201, 'order_dow': 2, 'n_orders': 4},\n",
       " {'user_id': 201, 'order_dow': 3, 'n_orders': 1},\n",
       " {'user_id': 201, 'order_dow': 4, 'n_orders': 1},\n",
       " {'user_id': 201, 'order_dow': 6, 'n_orders': 1},\n",
       " {'user_id': 202, 'order_dow': 0, 'n_orders': 4},\n",
       " {'user_id': 202, 'order_dow': 2, 'n_orders': 3},\n",
       " {'user_id': 202, 'order_dow': 3, 'n_orders': 1},\n",
       " {'user_id': 202, 'order_dow': 4, 'n_orders': 3},\n",
       " {'user_id': 202, 'order_dow': 5, 'n_orders': 1},\n",
       " {'user_id': 202, 'order_dow': 6, 'n_orders': 1},\n",
       " {'user_id': 203, 'order_dow': 0, 'n_orders': 1},\n",
       " {'user_id': 203, 'order_dow': 1, 'n_orders': 1},\n",
       " {'user_id': 203, 'order_dow': 5, 'n_orders': 2},\n",
       " {'user_id': 204, 'order_dow': 0, 'n_orders': 11},\n",
       " {'user_id': 204, 'order_dow': 1, 'n_orders': 9},\n",
       " {'user_id': 204, 'order_dow': 2, 'n_orders': 8},\n",
       " {'user_id': 204, 'order_dow': 3, 'n_orders': 5},\n",
       " {'user_id': 204, 'order_dow': 4, 'n_orders': 9},\n",
       " {'user_id': 204, 'order_dow': 5, 'n_orders': 9},\n",
       " {'user_id': 204, 'order_dow': 6, 'n_orders': 8},\n",
       " {'user_id': 205, 'order_dow': 0, 'n_orders': 2},\n",
       " {'user_id': 205, 'order_dow': 1, 'n_orders': 3},\n",
       " {'user_id': 205, 'order_dow': 2, 'n_orders': 4},\n",
       " {'user_id': 205, 'order_dow': 3, 'n_orders': 1},\n",
       " {'user_id': 205, 'order_dow': 4, 'n_orders': 2},\n",
       " {'user_id': 205, 'order_dow': 5, 'n_orders': 1},\n",
       " {'user_id': 206, 'order_dow': 0, 'n_orders': 6},\n",
       " {'user_id': 206, 'order_dow': 1, 'n_orders': 1},\n",
       " {'user_id': 206, 'order_dow': 2, 'n_orders': 1},\n",
       " {'user_id': 206, 'order_dow': 4, 'n_orders': 4},\n",
       " {'user_id': 206, 'order_dow': 5, 'n_orders': 9},\n",
       " ...]"
      ]
     },
     "execution_count": 49,
     "metadata": {},
     "output_type": "execute_result"
    }
   ],
   "source": [
    "records"
   ]
  },
  {
   "cell_type": "markdown",
   "id": "5332e7c8",
   "metadata": {},
   "source": [
    "### Spin-off of Exercise 1.4\n",
    "##### Plot a boxplot of the number of orders placed by each user at each day of the week"
   ]
  },
  {
   "cell_type": "code",
   "execution_count": 50,
   "id": "7b247cf7",
   "metadata": {},
   "outputs": [],
   "source": [
    "import seaborn as sns"
   ]
  },
  {
   "cell_type": "code",
   "execution_count": 51,
   "id": "4442e0db",
   "metadata": {},
   "outputs": [
    {
     "data": {
      "text/plain": [
       "{'count': 9, 'user_id': 56639}"
      ]
     },
     "execution_count": 51,
     "metadata": {},
     "output_type": "execute_result"
    }
   ],
   "source": [
    "group = {\"$group\": {\"_id\":{\"user_id\":\"$user_id\", \"dow\":\"$order_dow\"}, \"count\": {\"$sum\": 1}}}\n",
    "project = {\"$project\":{\"user_id\":\"$_id.user_id\", \"dow\":\"$_id.dow\", \"count\":1, \"_id\":0}}\n",
    "\n",
    "res = list(cll.aggregate([group, project]))\n",
    "res[0]"
   ]
  },
  {
   "cell_type": "code",
   "execution_count": 49,
   "id": "646050bc",
   "metadata": {},
   "outputs": [
    {
     "data": {
      "text/plain": [
       "<AxesSubplot:xlabel='dow', ylabel='count'>"
      ]
     },
     "execution_count": 49,
     "metadata": {},
     "output_type": "execute_result"
    },
    {
     "data": {
      "image/png": "[encoded data removed]",
      "text/plain": [
       "<Figure size 432x288 with 1 Axes>"
      ]
     },
     "metadata": {
      "needs_background": "light"
     },
     "output_type": "display_data"
    }
   ],
   "source": [
    "df = pd.DataFrame(res).fillna(0)\n",
    "sns.boxplot(data = df, x = \"dow\", y = \"count\")"
   ]
  },
  {
   "cell_type": "code",
   "execution_count": 50,
   "id": "5d85f5e0",
   "metadata": {},
   "outputs": [
    {
     "data": {
      "text/plain": [
       "<AxesSubplot:xlabel='dow', ylabel='count'>"
      ]
     },
     "execution_count": 50,
     "metadata": {},
     "output_type": "execute_result"
    },
    {
     "data": {
      "image/png": "[encoded data removed]",
      "text/plain": [
       "<Figure size 432x288 with 1 Axes>"
      ]
     },
     "metadata": {
      "needs_background": "light"
     },
     "output_type": "display_data"
    }
   ],
   "source": [
    "# Another representation: pointplot with confidence intervals\n",
    "sns.pointplot(data = df, x = \"dow\", y = \"count\", join = False, ci = 99)"
   ]
  },
  {
   "cell_type": "code",
   "execution_count": 51,
   "id": "59e12582",
   "metadata": {},
   "outputs": [
    {
     "data": {
      "text/plain": [
       "<AxesSubplot:xlabel='dow', ylabel='count'>"
      ]
     },
     "execution_count": 51,
     "metadata": {},
     "output_type": "execute_result"
    },
    {
     "data": {
      "image/png": "[encoded data removed]",
      "text/plain": [
       "<Figure size 432x288 with 1 Axes>"
      ]
     },
     "metadata": {
      "needs_background": "light"
     },
     "output_type": "display_data"
    }
   ],
   "source": [
    "# pointplot with standard deviations\n",
    "sns.pointplot(data = df, x = \"dow\", y = \"count\", join = False, ci = \"sd\")"
   ]
  },
  {
   "cell_type": "markdown",
   "id": "aa37003a-cefe-43dd-8fbc-a8eaefefbcb6",
   "metadata": {},
   "source": [
    "# 4. Asynchronous queries with Motor"
   ]
  },
  {
   "cell_type": "code",
   "execution_count": 52,
   "id": "743b33d9-191a-42b6-bb6e-37d7f04d592a",
   "metadata": {},
   "outputs": [
    {
     "name": "stdout",
     "output_type": "stream",
     "text": [
      "Requirement already satisfied: motor in c:\\users\\lenovo\\miniconda3\\lib\\site-packages (3.6.0)\n",
      "Requirement already satisfied: pymongo<4.10,>=4.9 in c:\\users\\lenovo\\miniconda3\\lib\\site-packages (from motor) (4.9.2)\n",
      "Requirement already satisfied: dnspython<3.0.0,>=1.16.0 in c:\\users\\lenovo\\miniconda3\\lib\\site-packages (from pymongo<4.10,>=4.9->motor) (2.7.0)\n"
     ]
    }
   ],
   "source": [
    "!pip install motor"
   ]
  },
  {
   "cell_type": "code",
   "execution_count": 54,
   "id": "d6b0efb3-9289-49aa-945b-eb42986d047f",
   "metadata": {},
   "outputs": [
    {
     "data": {
      "text/plain": [
       "<coroutine object ping_server at 0x000001C42EC32A40>"
      ]
     },
     "execution_count": 54,
     "metadata": {},
     "output_type": "execute_result"
    }
   ],
   "source": [
    "import asyncio\n",
    "import nest_asyncio # For nested asynchorous operations, necessary in Jupyter but often unnecessary in Python scripts\n",
    "from motor.motor_asyncio import AsyncIOMotorClient\n",
    "from time import sleep\n",
    "\n",
    "nest_asyncio.apply()\n",
    "\n",
    "async def ping_server():\n",
    "    # Replace the placeholder with your Atlas connection string\n",
    "    uri = \"mongodb://localhost:27017/\"\n",
    "    \n",
    "    # Set the Stable API version when creating a new client\n",
    "    client = AsyncIOMotorClient(uri)\n",
    "    \n",
    "    # Send a ping to confirm a successful connection\n",
    "    try:\n",
    "        await client.admin.command('ping')\n",
    "        print(\"Pinged your deployment. You successfully connected to MongoDB!\")\n",
    "    except Exception as e:\n",
    "        print(e)\n",
    "\n",
    "    return client\n",
    "\n",
    "ping_server()"
   ]
  },
  {
   "cell_type": "code",
   "execution_count": 55,
   "id": "589b0795-3623-4cdf-9f1c-549474003ac6",
   "metadata": {},
   "outputs": [
    {
     "name": "stdout",
     "output_type": "stream",
     "text": [
      "Pinged your deployment. You successfully connected to MongoDB!\n"
     ]
    }
   ],
   "source": [
    "client = asyncio.run(ping_server())"
   ]
  },
  {
   "cell_type": "code",
   "execution_count": 57,
   "id": "cb75e88e-445d-49ca-8dd1-b776643f11cd",
   "metadata": {},
   "outputs": [
    {
     "data": {
      "text/plain": [
       "motor.motor_asyncio.AsyncIOMotorClient"
      ]
     },
     "execution_count": 57,
     "metadata": {},
     "output_type": "execute_result"
    }
   ],
   "source": [
    "type(client)"
   ]
  },
  {
   "cell_type": "code",
   "execution_count": 58,
   "id": "cd83527d-1da1-49c0-9743-fc08ec988319",
   "metadata": {},
   "outputs": [
    {
     "data": {
      "text/plain": [
       "(asyncio.futures.Future, False)"
      ]
     },
     "execution_count": 58,
     "metadata": {},
     "output_type": "execute_result"
    }
   ],
   "source": [
    "future = client.list_database_names()\n",
    "type(future), future.done()"
   ]
  },
  {
   "cell_type": "code",
   "execution_count": 59,
   "id": "e94061f0-f553-4515-8245-e80687b5c56c",
   "metadata": {},
   "outputs": [
    {
     "data": {
      "text/plain": [
       "True"
      ]
     },
     "execution_count": 59,
     "metadata": {},
     "output_type": "execute_result"
    }
   ],
   "source": [
    "future.done() # Important note: in Jupyter you have to change cell to have back the result from a future object"
   ]
  },
  {
   "cell_type": "code",
   "execution_count": 60,
   "id": "511cf1eb-6301-4db7-abfb-de34ee4cce0e",
   "metadata": {},
   "outputs": [
    {
     "data": {
      "text/plain": [
       "['ASKE',\n",
       " 'EmoTradeAdvisor',\n",
       " 'IMDB',\n",
       " 'OCR-Parlamento',\n",
       " 'OCR-Wikisource',\n",
       " 'admin',\n",
       " 'config',\n",
       " 'illinois_caselaw',\n",
       " 'instacart',\n",
       " 'lawscraper',\n",
       " 'local']"
      ]
     },
     "execution_count": 60,
     "metadata": {},
     "output_type": "execute_result"
    }
   ],
   "source": [
    "future.result()"
   ]
  },
  {
   "cell_type": "code",
   "execution_count": 61,
   "id": "5656316c-742c-4a1d-ab97-5e1820fc49ed",
   "metadata": {},
   "outputs": [
    {
     "data": {
      "text/plain": [
       "['ASKE',\n",
       " 'EmoTradeAdvisor',\n",
       " 'IMDB',\n",
       " 'OCR-Parlamento',\n",
       " 'OCR-Wikisource',\n",
       " 'admin',\n",
       " 'config',\n",
       " 'illinois_caselaw',\n",
       " 'instacart',\n",
       " 'lawscraper',\n",
       " 'local']"
      ]
     },
     "execution_count": 61,
     "metadata": {},
     "output_type": "execute_result"
    }
   ],
   "source": [
    "asyncio.run(client.list_database_names())"
   ]
  },
  {
   "cell_type": "code",
   "execution_count": 62,
   "id": "b0b4e6a5-0060-442b-b5de-0a0397664310",
   "metadata": {},
   "outputs": [
    {
     "data": {
      "text/plain": [
       "AsyncIOMotorCollection(Collection(Database(MongoClient(host=['localhost:27017'], document_class=dict, tz_aware=False, connect=False, driver=DriverInfo(name='Motor', version='3.6.0', platform='asyncio')), 'instacart'), 'orders'))"
      ]
     },
     "execution_count": 62,
     "metadata": {},
     "output_type": "execute_result"
    }
   ],
   "source": [
    "db = client['instacart']\n",
    "cll = db['orders']\n",
    "cll"
   ]
  },
  {
   "cell_type": "code",
   "execution_count": 63,
   "id": "363bf1ba-9795-4996-a305-89b534e6cc1f",
   "metadata": {},
   "outputs": [
    {
     "ename": "TypeError",
     "evalue": "An asyncio.Future, a coroutine or an awaitable is required",
     "output_type": "error",
     "traceback": [
      "\u001b[1;31m---------------------------------------------------------------------------\u001b[0m",
      "\u001b[1;31mTypeError\u001b[0m                                 Traceback (most recent call last)",
      "Cell \u001b[1;32mIn[63], line 4\u001b[0m\n\u001b[0;32m      1\u001b[0m group \u001b[38;5;241m=\u001b[39m {\u001b[38;5;124m\"\u001b[39m\u001b[38;5;124m$group\u001b[39m\u001b[38;5;124m\"\u001b[39m: {\u001b[38;5;124m\"\u001b[39m\u001b[38;5;124m_id\u001b[39m\u001b[38;5;124m\"\u001b[39m:{\u001b[38;5;124m\"\u001b[39m\u001b[38;5;124muser_id\u001b[39m\u001b[38;5;124m\"\u001b[39m:\u001b[38;5;124m\"\u001b[39m\u001b[38;5;124m$user_id\u001b[39m\u001b[38;5;124m\"\u001b[39m, \u001b[38;5;124m\"\u001b[39m\u001b[38;5;124mdow\u001b[39m\u001b[38;5;124m\"\u001b[39m:\u001b[38;5;124m\"\u001b[39m\u001b[38;5;124m$order_dow\u001b[39m\u001b[38;5;124m\"\u001b[39m}, \u001b[38;5;124m\"\u001b[39m\u001b[38;5;124mcount\u001b[39m\u001b[38;5;124m\"\u001b[39m: {\u001b[38;5;124m\"\u001b[39m\u001b[38;5;124m$sum\u001b[39m\u001b[38;5;124m\"\u001b[39m: \u001b[38;5;241m1\u001b[39m}}}\n\u001b[0;32m      2\u001b[0m project \u001b[38;5;241m=\u001b[39m {\u001b[38;5;124m\"\u001b[39m\u001b[38;5;124m$project\u001b[39m\u001b[38;5;124m\"\u001b[39m:{\u001b[38;5;124m\"\u001b[39m\u001b[38;5;124muser_id\u001b[39m\u001b[38;5;124m\"\u001b[39m:\u001b[38;5;124m\"\u001b[39m\u001b[38;5;124m$_id.user_id\u001b[39m\u001b[38;5;124m\"\u001b[39m, \u001b[38;5;124m\"\u001b[39m\u001b[38;5;124mdow\u001b[39m\u001b[38;5;124m\"\u001b[39m:\u001b[38;5;124m\"\u001b[39m\u001b[38;5;124m$_id.dow\u001b[39m\u001b[38;5;124m\"\u001b[39m, \u001b[38;5;124m\"\u001b[39m\u001b[38;5;124mcount\u001b[39m\u001b[38;5;124m\"\u001b[39m:\u001b[38;5;241m1\u001b[39m, \u001b[38;5;124m\"\u001b[39m\u001b[38;5;124m_id\u001b[39m\u001b[38;5;124m\"\u001b[39m:\u001b[38;5;241m0\u001b[39m}}\n\u001b[1;32m----> 4\u001b[0m \u001b[43masyncio\u001b[49m\u001b[38;5;241;43m.\u001b[39;49m\u001b[43mrun\u001b[49m\u001b[43m(\u001b[49m\u001b[43mcll\u001b[49m\u001b[38;5;241;43m.\u001b[39;49m\u001b[43maggregate\u001b[49m\u001b[43m(\u001b[49m\u001b[43m[\u001b[49m\u001b[43mgroup\u001b[49m\u001b[43m,\u001b[49m\u001b[43m \u001b[49m\u001b[43mproject\u001b[49m\u001b[43m]\u001b[49m\u001b[43m)\u001b[49m\u001b[43m)\u001b[49m\n",
      "File \u001b[1;32m~\\AppData\\Roaming\\Python\\Python312\\site-packages\\nest_asyncio.py:28\u001b[0m, in \u001b[0;36m_patch_asyncio.<locals>.run\u001b[1;34m(main, debug)\u001b[0m\n\u001b[0;32m     26\u001b[0m loop \u001b[38;5;241m=\u001b[39m asyncio\u001b[38;5;241m.\u001b[39mget_event_loop()\n\u001b[0;32m     27\u001b[0m loop\u001b[38;5;241m.\u001b[39mset_debug(debug)\n\u001b[1;32m---> 28\u001b[0m task \u001b[38;5;241m=\u001b[39m \u001b[43masyncio\u001b[49m\u001b[38;5;241;43m.\u001b[39;49m\u001b[43mensure_future\u001b[49m\u001b[43m(\u001b[49m\u001b[43mmain\u001b[49m\u001b[43m)\u001b[49m\n\u001b[0;32m     29\u001b[0m \u001b[38;5;28;01mtry\u001b[39;00m:\n\u001b[0;32m     30\u001b[0m     \u001b[38;5;28;01mreturn\u001b[39;00m loop\u001b[38;5;241m.\u001b[39mrun_until_complete(task)\n",
      "File \u001b[1;32m~\\miniconda3\\Lib\\asyncio\\tasks.py:689\u001b[0m, in \u001b[0;36mensure_future\u001b[1;34m(coro_or_future, loop)\u001b[0m\n\u001b[0;32m    687\u001b[0m         should_close \u001b[38;5;241m=\u001b[39m \u001b[38;5;28;01mFalse\u001b[39;00m\n\u001b[0;32m    688\u001b[0m     \u001b[38;5;28;01melse\u001b[39;00m:\n\u001b[1;32m--> 689\u001b[0m         \u001b[38;5;28;01mraise\u001b[39;00m \u001b[38;5;167;01mTypeError\u001b[39;00m(\u001b[38;5;124m'\u001b[39m\u001b[38;5;124mAn asyncio.Future, a coroutine or an awaitable \u001b[39m\u001b[38;5;124m'\u001b[39m\n\u001b[0;32m    690\u001b[0m                         \u001b[38;5;124m'\u001b[39m\u001b[38;5;124mis required\u001b[39m\u001b[38;5;124m'\u001b[39m)\n\u001b[0;32m    692\u001b[0m \u001b[38;5;28;01mif\u001b[39;00m loop \u001b[38;5;129;01mis\u001b[39;00m \u001b[38;5;28;01mNone\u001b[39;00m:\n\u001b[0;32m    693\u001b[0m     loop \u001b[38;5;241m=\u001b[39m events\u001b[38;5;241m.\u001b[39mget_event_loop()\n",
      "\u001b[1;31mTypeError\u001b[0m: An asyncio.Future, a coroutine or an awaitable is required"
     ]
    }
   ],
   "source": [
    "group = {\"$group\": {\"_id\":{\"user_id\":\"$user_id\", \"dow\":\"$order_dow\"}, \"count\": {\"$sum\": 1}}}\n",
    "project = {\"$project\":{\"user_id\":\"$_id.user_id\", \"dow\":\"$_id.dow\", \"count\":1, \"_id\":0}}\n",
    "\n",
    "asyncio.run(cll.aggregate([group, project]).to_list())"
   ]
  },
  {
   "cell_type": "markdown",
   "id": "ba2a884d-36a7-496e-8c26-a3b9fbc0993e",
   "metadata": {},
   "source": [
    "![alt text](https://66.media.tumblr.com/f904bf42571febbbc71c07941c98165c/tumblr_ndtq8oEL1v1rey868o1_500.gif)"
   ]
  }
 ],
 "metadata": {
  "kernelspec": {
   "display_name": "Python 3 (ipykernel)",
   "language": "python",
   "name": "python3"
  },
  "language_info": {
   "codemirror_mode": {
    "name": "ipython",
    "version": 3
   },
   "file_extension": ".py",
   "mimetype": "text/x-python",
   "name": "python",
   "nbconvert_exporter": "python",
   "pygments_lexer": "ipython3",
   "version": "3.12.2"
  }
 },
 "nbformat": 4,
 "nbformat_minor": 5
}
